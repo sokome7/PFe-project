{
 "cells": [
  {
   "cell_type": "markdown",
   "id": "ba73c5ad-e635-4af5-bf64-39f5d7ab4283",
   "metadata": {
    "tags": []
   },
   "source": [
    "# Heliocloud and SunPy Tutorial"
   ]
  },
  {
   "cell_type": "code",
   "execution_count": 1,
   "id": "a3e6ba5f-b2ee-4263-974f-93160fd5d446",
   "metadata": {},
   "outputs": [
    {
     "name": "stderr",
     "output_type": "stream",
     "text": [
      "/home/jovyan/users_conda_envs/pythonenv/lib/python3.11/site-packages/tqdm/auto.py:21: TqdmWarning: IProgress not found. Please update jupyter and ipywidgets. See https://ipywidgets.readthedocs.io/en/stable/user_install.html\n",
      "  from .autonotebook import tqdm as notebook_tqdm\n"
     ]
    }
   ],
   "source": [
    "#Import some packages to get started\n",
    "\n",
    "import os\n",
    "import io\n",
    "import csv\n",
    "import glob\n",
    "\n",
    "import matplotlib.pyplot as plt\n",
    "import pandas as pd\n",
    "import numpy as np\n",
    "\n",
    "import sunpy.map"
   ]
  },
  {
   "cell_type": "markdown",
   "id": "191c6646-7c1c-4241-93cb-1196b5b319a8",
   "metadata": {
    "tags": []
   },
   "source": [
    "## SDO data in HelioCloud\n",
    "\n",
    "For this project we will be using data from the Solar Dynamics Observatory (SDO) which has been collecting solar data from 2010 up to the present. SDO has three instruments onboard: HMI (Helioseismic and Magnetic Imager), AIA (Atmospheric Imaging Assembly), and EVE (Extreme Ultraviolet Variability Experiment). \n",
    "\n",
    "HelioCloud has some data from AIA and HMI in the S3 bucket 'gov-nasa-hdrl-data1'. We will mainly be working with HMI data, but I'll give a quick description of the all data available and example object keys for the different data series. *(What's an Object Key? It's a unique identifier for an object stored in an Amazon S3 bucket. It's what you use to call the data and it looks very similar to a UNIX file path.)*\n",
    "<hr> \n",
    "\n",
    "**The Helioseismic and Magnetic Imager**\n",
    "\n",
    "The HMI instrument was designed to study oscillations and the magnetic field at the solar surface. HMI is an imaging spectro-polarimeter that collects narrow-band polarized filtergrams at six wavelengths across the 6173 Angstrom Fe I absorption line. The HelioCloud HMI dataset includes the line-of-sight velocity corrected\n",
    "for Sun-spacecraft motion; the line-of-sight magnetic field; computed continuum intensity (both as observed\n",
    "and corrected for limb darkening); and the three components of the vector magnetic field and\n",
    "the uncertainty in each component.\n",
    "\n",
    "The HMI instrument is oriented upside down on SDO, so normally the data is upside down. In HelioCloud the data has already been centered and rotated so it is the right way up.\n",
    "\n",
    "*Data from 20100501-20221231 are available*\n",
    "\n",
    "| Data | Example Object Key|\n",
    "| ---- | -------------- |\n",
    "| HMI 720s Line-of-sight <br> Magnetic field (M) at <br> 2022:10:02_00:00:00 TAI | sdo/hmi/20221002/M/sdo_hmi_h2_20221002T000000_M_v1.fits |\n",
    "| HMI 720s Continuum Intensity (Ic) | sdo/hmi/20221002/Ic/sdo_hmi_h2_20221002T000000_Ic_v1.fits |\n",
    "| HMI 720s Continuum Intensity <br> corrected for limb darkening | sdo/hmi/20221002/Ic_noLimbDark/sdo_hmi_h2_20221002T002400_Ic_noLimbDark_v1.fits |\n",
    "| HMI 720s Velocity | sdo/hmi/20221002/V/sdo_hmi_h2_20221002T000000_V_v1.fits |\n",
    "| HMI Radial magnetic <br> field component | sdo/hmi/20221002/B/sdo_hmi_h2_20221002T003600_Br_v1.fits |\n",
    "| HMI Radial field uncertainty | sdo/hmi/20221002/B/sdo_hmi_h2_20221002T003600_Br_err_v1.fits |\n",
    "| HMI Westward magnetic <br> field component | sdo/hmi/20221002/B/sdo_hmi_h2_20221002T000000_Bp_v1.fits |\n",
    "| HMI Westward field uncertainty | sdo/hmi/20221002/B/sdo_hmi_h2_20221002T000000_Bp_err_v1.fits |\n",
    "| HMI Southward magnetic <br> field component | sdo/hmi/20221002/B/sdo_hmi_h2_20221002T001200_Bt_v1.fits |\n",
    "| HMI Southward field uncertainty | sdo/hmi/20221002/B/sdo_hmi_h2_20221002T001200_Bt_err_v1.fits |\n",
    "\n",
    "*Note the vector B magnetic field keywords have a capitalization error for data in 2010 through 2012. This includes Br, Bt, Bp, Br_err, Bt_err, and Bp_err. The keywords have the series name lowercased like this:\n",
    "> sdo/hmi/20221002/B/sdo_hmi_h2_20120101T234800_**b**p_err_v1.fits\n",
    "> sdo/hmi/20221002/B/sdo_hmi_h2_20221002T000000_**b**p_v1.fits \n",
    "\n",
    "\n",
    "<hr>\n",
    "\n",
    "**Ancillary Files**\n",
    "\n",
    "These are single 3D FITS files that includes four ancillary data values for each of the 4096x4096 image\n",
    "pixels (calculated every 4 minutes from HMI data). Note the AIA data in HelioCloud is scaled to 0.5000 arc seconds per pixel which is the same as HMI, so the ancillary files should also work for the AIA images in HelioCloud.\n",
    "\n",
    "*Data from 20100501-20141231 and 20200101-20221231 are available*\n",
    "\n",
    "| Data | Example Object Key|\n",
    "| ---- | -------------- |\n",
    "|Ancillary latitude,<br>longitude, and line-of-sight<br> SDO velocity|sdo/ancillary/20220101/LatLonVMu/sdo_ancillary_h2_20220101T012400_LatLonVMu_v1.fits|\n",
    "\n",
    "3D FITS file order:\n",
    "- Heliographic longitude [\\*,\\*,0]\n",
    "- Heliographic latitude [\\*,\\*,1]\n",
    "- Line-of-sight component of the satellite velocity at each pixel, accounting for both Earth and SDO motions [\\*,\\*,2]\n",
    "- Center-to-limb angle, mu [\\*,\\*,3]\n",
    "\n",
    "<hr>\n",
    "\n",
    "**The Atmospheric Imaging Assembly**\n",
    "\n",
    "The AIA instrument was designed to study the solar corona and captures full images of the Sun and lower atmosphere in multiple different wavelengths. The HelioCloud AIA dataset consists of 2 UV (1600, 1700) and 7 EUV channels (94, 131, 171, 193, 211, 304, and 335 A) obtained at 4-minute intervals.\n",
    "\n",
    "*Data from 20100513-20221231 are available*\n",
    "\n",
    "| Data | Example Object Key|\n",
    "| ---- | ----------------- |\n",
    "| AIA 94A EUV Image at time <br> 2022.06.01_00:00:00 TAI | sdo/aia/20220601/0094/sdo_aia_h2_20220601T000000_94_v1.fits\n",
    "| AIA 131A EUV Image |sdo/aia/20221002/0131/sdo_aia_h2_20221002T000400_131_v1.fits |\n",
    "| AIA 171A EUV Image | sdo/aia/20220601/0171/sdo_aia_h2_20220601T055600_171_v1.fits |\n",
    "| AIA 193A EUV Image | sdo/aia/20220601/0193/sdo_aia_h2_20220601T000000_193_v1.fits |\n",
    "| AIA 211A EUV Image | sdo/aia/20220601/0211/sdo_aia_h2_20220601T000000_211_v1.fits |\n",
    "| AIA 304A EUV Image | sdo/aia/20220601/0304/sdo_aia_h2_20220601T000000_304_v1.fits |\n",
    "| AIA 335A EUV Image | sdo/aia/20220601/0335/sdo_aia_h2_20220601T000000_335_v1.fits |\n",
    "| AIA 1600A UV Image | sdo/aia/20220601/1600/sdo_aia_h2_20220601T000000_1600_v1.fits |\n",
    "| AIA 1700A UV Image | sdo/aia/20220601/1700/sdo_aia_h2_20220601T000000_1700_v1.fits | \n",
    "\n",
    "<hr>\n",
    "\n",
    "**Registry Files**\n",
    "\n",
    "There are registry files in HelioCloud that *should* list all of the data (and their keywords) stored in HelioCloud. Here are their object keys:\n",
    "\n",
    "Ancillary: sdo/ancillary/registry/LatLonVMu_2012.csv <br>\n",
    "AIA: sdo/aia/registries/aia_0094_2016.csv <br>\n",
    "HMI: sdo/hmi/registries/hmi_B_2018.csv <br>\n",
    "\n",
    "*There are separate registry files for each AIA and HMI data series and year. They have the same format just swap the series name and year for the one you want. For example if you want the AIA 171 data registry for 2011 the data key is* sdo/aia/registries/aia_0171_2011.csv  \n",
    "\n",
    "<hr> \n",
    "<hr> \n",
    "\n",
    "**A Quick Note on S3 and Object Keys**\n",
    "\n",
    "Amazon S3 buckets have a flat structure, meaning that an object created in a folder folder1/object1.txt would have the key folder1/object1.txt. However, since humans enjoy the concept of folders and directories, Amazon S3 provides something called a Common Prefix, which is similar to the concept of a path.\n",
    "\n",
    "When listing the contents of a bucket, paths (effectively keys without the final \"object name\") are provided which are a list of CommonPrefixes. This allows users to step through folder hierarchies. However, the Key of all objects include their full path.\n",
    "\n",
    "If you want to check it out for yourself, you can open up a terminal from the launcher and use this command to query the 'gov-nasa-hdrl-data1' bucket. You need '--no-sign-request' at the end to access the bucket. \n",
    "\n",
    "<br> `aws s3 ls s3://gov-nasa-hdrl-data1/ --no-sign-request`\n",
    ">                           PRE cdaweb/\n",
    ">                           PRE contrib/\n",
    ">                           PRE sdac/\n",
    ">                           PRE sdo/\n",
    ">                           PRE spdf/ . . .\n",
    "\n",
    "(The \"PRE\" stands for prefix, and indicates sdo/ is an AWS prefix. ) \n"
   ]
  },
  {
   "cell_type": "code",
   "execution_count": 2,
   "id": "5376d6fd-632d-40cd-860e-b5ffe08d1978",
   "metadata": {},
   "outputs": [],
   "source": [
    "#Bt-B theta"
   ]
  },
  {
   "cell_type": "markdown",
   "id": "3ff17fe0-aa76-49aa-bf4c-a17e85e70199",
   "metadata": {
    "tags": []
   },
   "source": [
    "## FITS files and S3\n",
    "\n",
    "Now that we've introduced the data, lets try opening one of the HMI 720s Continuum Intensity images. First we need to establish a connection to the bucket 'gov-nasa-hdrl-data1' where all the SDO data is stored. This bucket is public, however it does want an AWS credential. You can circumvent this by adding the ‘—no-sign-request’ parameter to the aws client or by the equivalent boto3 library call  below:"
   ]
  },
  {
   "cell_type": "code",
   "execution_count": 3,
   "id": "b3573cf5-90ad-4395-8741-f259cfe422af",
   "metadata": {},
   "outputs": [],
   "source": [
    "import boto3\n",
    "from botocore import UNSIGNED\n",
    "from botocore.config import Config\n",
    "\n",
    "mybucket='gov-nasa-hdrl-data1'\n",
    "s3c = boto3.client('s3', config=Config(signature_version=UNSIGNED))\n",
    "\n",
    "#You only have to connect to S3 once. Not everytime you open a new fits file."
   ]
  },
  {
   "cell_type": "markdown",
   "id": "4028524a-f925-45ad-a5bc-24091851ff9e",
   "metadata": {},
   "source": [
    "All SDO data are FITS (flexible image transport system) files, which are the most commonly used digital file format in astronomy and heliophysics. They can normally can be opened with either SunPy or AstroPy. However, SunPy currently is not capable of opening files in S3, so we need to open the files initially with AstroPy.\n",
    "\n",
    "First we specify which object we want using it's key and which bucket it is located in:"
   ]
  },
  {
   "cell_type": "code",
   "execution_count": 4,
   "id": "48afa7d8-6391-42a2-b9eb-86511d75152e",
   "metadata": {},
   "outputs": [],
   "source": [
    "fobj = s3c.get_object(Bucket=mybucket,Key= 'sdo/hmi/20220423/Ic/sdo_hmi_h2_20220423T070000_Ic_v1.fits')"
   ]
  },
  {
   "cell_type": "markdown",
   "id": "cfa4f912-697b-4590-b845-e17efa6ae483",
   "metadata": {},
   "source": [
    "We then open it with AstroPy:"
   ]
  },
  {
   "cell_type": "code",
   "execution_count": 5,
   "id": "00b90468-2464-4ccc-89e3-db6cdae88ace",
   "metadata": {},
   "outputs": [],
   "source": [
    "import astropy.io.fits\n",
    "from astropy.io import fits\n",
    "from astropy.io.fits import CompImageHDU\n",
    "\n",
    "rawdata = fobj['Body'].read()\n",
    "bdata = io.BytesIO(rawdata) \n",
    "hdul = astropy.io.fits.open(bdata,memmap=False)\n",
    "\n",
    "#When you are done you can use hdul.close() to close the file"
   ]
  },
  {
   "cell_type": "markdown",
   "id": "a98ba3a2-e8a0-4845-be60-cc278f22bb1e",
   "metadata": {},
   "source": [
    " AstroPy's .open() function returns a HDUL (header data unit list) which as the name suggests is a list-like collection of HDU objects in a FITS file. Header data units (HDU) are the fundamental container structure of the FITS format that consists of metadata (called the header) and usually a data array.\n",
    "\n",
    "You can use .info() to summarize the contents of an opened fits file:"
   ]
  },
  {
   "cell_type": "code",
   "execution_count": 6,
   "id": "91015144-b6b6-43f1-a3f1-8040ca2a261d",
   "metadata": {},
   "outputs": [
    {
     "name": "stdout",
     "output_type": "stream",
     "text": [
      "Filename: <class '_io.BytesIO'>\n",
      "No.    Name      Ver    Type      Cards   Dimensions   Format\n",
      "  0  PRIMARY       1 PrimaryHDU       6   ()      \n",
      "  1  COMPRESSED_IMAGE    1 CompImageHDU    111   (4096, 4096)   int16   \n"
     ]
    }
   ],
   "source": [
    "hdul.info()"
   ]
  },
  {
   "cell_type": "markdown",
   "id": "8e86328c-0d76-4273-b0f5-07baaa865644",
   "metadata": {},
   "source": [
    "The list shows that our FITS file has two HDU objects named 'PRIMARY' and 'COMPRESSED_IMAGE'. The PRIMARY HDU is empty and can be ignored (you can tell from the list because the dimensions and format are blank). \n",
    "\n",
    "The HMI data and header we want are in the COMPRESSED_IMAGE HDU. You can see the data has dimensions 4096 x 4096 which is the size of HMI solar images.\n",
    "\n",
    "The data and header for this HDU can be accessed like this:"
   ]
  },
  {
   "cell_type": "code",
   "execution_count": 7,
   "id": "22897450-11be-4548-95d8-1461fa9dae03",
   "metadata": {},
   "outputs": [],
   "source": [
    "data = hdul[1].data \n",
    "header = hdul[1].header\n",
    "\n",
    "#You can also use hdul['COMPRESSED_IMAGE'] instead of hdul[1]"
   ]
  },
  {
   "cell_type": "markdown",
   "id": "53791d5b-8f0a-46ce-94b3-f3d02accb701",
   "metadata": {},
   "source": [
    "We will start by looking at the header. For those unfamiliar with FITS headers, they consist of a list of 80 byte “cards”, where a card contains a keyword, a value, and a comment. Keywords are usually unique within a header, except in a few special cases.\n",
    "\n",
    "The header contains information about the data and the instrument (i.e observation time, satelite velocity, maximum value...). Take a look:"
   ]
  },
  {
   "cell_type": "code",
   "execution_count": 8,
   "id": "1150f436-4e31-46b9-9925-607c56f0295c",
   "metadata": {},
   "outputs": [
    {
     "data": {
      "text/plain": [
       "SIMPLE  =                    T / file does conform to FITS standard             \n",
       "BITPIX  =                  -32 / data type of original image                    \n",
       "NAXIS   =                    2 / dimension of original image                    \n",
       "NAXIS1  =                 4096 / length of original image axis                  \n",
       "NAXIS2  =                 4096 / length of original image axis                  \n",
       "DATE    = '2022-12-17T10:35:09.000' / [ISO] HDU creation date                   \n",
       "TELESCOP= 'SDO/HMI '           / Mission and Instrument                         \n",
       "INSTRUME= 'HMI_COMBINED'       / For HMI: HMI_SIDE1, HMI_FRONT2, or HMI_COMBINED\n",
       "WAVELNTH=                6173. / [angstrom] Wavelength                          \n",
       "CAMERA  =                    3 / ID of the camera(s) for this file.             \n",
       "FILENAME= 'sdo_hmi_h2_20220423T070000_Ic_v1.fits' / File name used for this file\n",
       "BUNIT   = 'DN/s    '           / Physical Units                                 \n",
       "ORIGIN  = 'SDO/JSOC-SDP'       / Creation place of this file                    \n",
       "CONTENT = 'CONTINUUM INTENSITY' / The type of data product                      \n",
       "T_OBS   = '2022.04.23_07:00:02.781_TAI' / [TAI] Center time of filtergrams used \n",
       "T_REC   = '2022.04.23_07:00:00.000_TAI' / [TAI] Target/slot time as if at 1 AU  \n",
       "DATE-OBS= '2022-04-23T06:58:40.800' / [ISO] T_OBS {DATE__OBS}                   \n",
       "LICENSE = 'CC0-1.0 '           / http://jsoc.stanford.edu/JSOC_Data_Policy.html \n",
       "PROC_LEV= 'level_2HC'          / Proc for HelioCloud, rescaled to 0.5 arc       \n",
       "DATA_DOC= 'DOI:10.1007/s11207-016-0957-3' / Data source document                \n",
       "QUALITY =                    0 / Level 1.5 quality                              \n",
       "QUALLEV1=                    0 / Level 1 quality                                \n",
       "CALVER64=            268706066 / Calibration version                            \n",
       "SOURCE  = 'hmi.Ic_720s[2022.04.23_07:00:00_TAI][3]' / Data used to produce this \n",
       "HISTORY Polynomial Coefficients used for Doppler velocity correction: 2.955770e+\n",
       "HISTORY 02 5.185850e-03 -1.175379e-05 -4.915495e-10                             \n",
       "COMMENT De-rotation: ON; Un-distortion: ON; Re-centering: ON; Re-sizing: OFF; co\n",
       "COMMENT rrection for cosmic-ray hits; correction front/side intensity implemente\n",
       "COMMENT d for mod L; RSUNerr=5.0 pixels; dpath=/home/jsoc/cvs/Development/JSOC/p\n",
       "COMMENT roj/lev1.5_hmi/apps/; linearity=1 with coefficients updated on 2014/01/1\n",
       "COMMENT 5; smooth=1; propagate eclipse bit from level 1; use of larger crop radi\n",
       "COMMENT us look-up tablesresize: scale_to=0.500000, mag=1.008075, dx=-0.183838, \n",
       "COMMENT dy=-0.243896, regridtype=1, do_stretch=0, center_to=solar disk          \n",
       "BLD_VERS= '-941    '           / Code release build number                      \n",
       "HCAMID  =                    2 / Level 0 param HMI_SEQ_ID_EXP_PATH              \n",
       "TOTVALS =             12358185 / Total number of pixels                         \n",
       "DATAVALS=             12534416 / Number of pixels with valid data               \n",
       "MISSVALS=              -176230 / Number of pixels with non                      \n",
       "SATVALS =                 6132 / Number of saturated values                     \n",
       "DATAMIN2=           149.257462 / [Gauss] Minimum value of all valid pixels      \n",
       "DATAMAX2=           54254.7734 / [Gauss] Maximum value of all valid pixels      \n",
       "DATAMED2=           40288.1055 / [Gauss] Median value of all valid pixels       \n",
       "DATAMEA2=           36214.4102 / [Gauss] Mean value of all valid pixels         \n",
       "DATARMS2=            12852.001 / [Gauss] RMS of all valid pixels                \n",
       "DATASKE2=          -1.80544817 / [Gauss] Skewness of all valid pixels           \n",
       "DATAKUR2=           2.52997327 / [Gauss] Kurtosis all valid pixels              \n",
       "DATAMIN =            98.556015 / [Gauss] Min of pixels in 99% of solar radius   \n",
       "DATAMAX =           54056.6367 / [Gauss] Max of pixels in 99% of solar radius   \n",
       "DATAMEDN=           40311.4727 / [Gauss] Median of pixels in 99% of solar radius\n",
       "DATAMEAN=           36283.7969 / [Gauss] Mean of pixels in 99% of solar radius  \n",
       "DATARMS =           12765.5186 / [Gauss] RMS of pixels in 99% of solar radius   \n",
       "DATASKEW=          -1.81929088 / [Gauss] Skewness of pixels in 99% of solar radi\n",
       "DATAKURT=           2.60906649 / [Gauss] Kurtosis of pixels in 99% of solar radi\n",
       "CTYPE1  = 'HPLN-TAN'           / WCS projection HPLN                            \n",
       "CTYPE2  = 'HPLT-TAN'           / WCS projection HPLT                            \n",
       "CRPIX1  =               2048.5 / [pixel] location of disk center in x direction \n",
       "CRPIX2  =               2048.5 / [pixel] location of disk center in y direction \n",
       "CRVAL1  =                   0. / [arcsec] x origin                              \n",
       "CRVAL2  =                   0. / [arcsec] y origin                              \n",
       "CDELT1  =                  0.5 / [arcsec/pixel] image pixel size in x direction \n",
       "CDELT2  =                  0.5 / [arcsec/pixel] image pixel size in y direction \n",
       "CUNIT1  = 'arcsec  '           / [arcsec] Physical units of x                   \n",
       "CUNIT2  = 'arcsec  '           / [arcsec] Physical units of y                   \n",
       "CROTA2  =                   0. / [deg] Angle of solar north projection on sky.  \n",
       "CRDER1  =                   0. / [arcsec] estimate of random error in CRPIX1    \n",
       "CRDER2  =                   0. / [arcsec] estimate of random error in CRPIX2    \n",
       "CSYSER1 =                      / [arcsec] (MISSING) est. of systematic error in \n",
       "CSYSER2 =                      / [arcsec] (MISSING) est. of systematic error in \n",
       "WCSNAME = 'Helioprojective-cartesian' / WCS system name                         \n",
       "DSUN_OBS=   150431544346.31409 / [m] Distance from SDO to Sun center.           \n",
       "DSUN_REF=        149597870691. / [m] Astronomical Unit                          \n",
       "RSUN_REF=           696000000. / [m] Reference radius of the Sun                \n",
       "CRLN_OBS=           102.736282 / [deg] Carrington lon of disk center from SDO   \n",
       "CRLT_OBS=          -4.92017603 / [deg] Carrington lat of disk center from SDO   \n",
       "CAR_ROT =                 2256 / Carrington rot. number of CRLN_OBS             \n",
       "HGLN_OBS=                      / [deg] (MISSING) Stonyhurst lon of disk center f\n",
       "OBS_VR  =   492.25146957104232 / [m/s] velocity of SDO away from the Sun        \n",
       "OBS_VW  =   32420.778499415163 / [m/s] velocity of SDO solar                    \n",
       "OBS_VN  =   3685.2510635608533 / [m/s] velocity of SDO solar                    \n",
       "RSUN_OBS=    954.3265380859375 / [arcsec] arcsin(RSUN_REF/DSUN_OBS), obs radius \n",
       "TRECEPOC= '1993.01.01_00:00:00.000_TAI' / [TAI] Origin of time slots. {T_REC_epo\n",
       "TRECSTEP=                 720. / [seconds] ts_eq step, slot duration. {T_REC_ste\n",
       "TRECUNIT= 'secs    '           / ts_eq unit {T_REC_unit}                        \n",
       "CADENCE =                 720. / [seconds] Observation cadence                  \n",
       "HFLID   =                 1022 / Level 0 param, HMI_SEQ_ID_FRAMELIST            \n",
       "HCFTID  =                   10 / Level 0 param, HMI_SEQ_ID_FOCUS                \n",
       "QLOOK   =                    0 / 0=final data, 1=quick                          \n",
       "CAL_FSN =            192682187 / Calibration table ID, image serial number      \n",
       "LUTQUERY= 'hmi.lookup_corrected_expanded[192682187][][2][38][47][0][78][6]' / qu\n",
       "TSEL    =           22.3134212 / [degree Celsius] temperature of polarization op\n",
       "TFRONT  =           36.8024864 / [degree Celsius] temperature HMI front window  \n",
       "TINTNUM =                  672 / Number of level                                \n",
       "SINTNUM =                   10 / number of points used for spatial interpolation\n",
       "DISTCOEF= '/home/jsoc/cvs/Development/JSOC/proj/lev1.5_hmi/apps//../libs/lev15/'\n",
       "ROTCOEF = '/home/jsoc/cvs/Development/JSOC/proj/lev1.5_hmi/apps//../libs/lev15/'\n",
       "ODICOEFF=                    6 / order of the distortion                        \n",
       "OROCOEFF=                    4 / order of the differential                      \n",
       "POLCALM =                    1 / method used by the polarization calibration    \n",
       "CODEVER0= '$Id: HMI_IQUV_averaging.c,v 1.57 2018/08/31 22:42:51 phil Exp $' / Co\n",
       "CODEVER1= '$Id: interpol_code.c,v 1.6 2017/08/31 22:17:13 arta Exp $' / Gapfilli\n",
       "CODEVER2= '$Id: interpol_code.c,v 1.6 2017/08/31 22:17:13 arta Exp $' / Temporal\n",
       "CODEVER3= '$Id: polcal.c,v 1.8 2016/10/03 19:11:21 arta Exp $' / version of the \n",
       "RECNUM  =               518817 / Recnum                                         \n",
       "DRMS_ID = 'hmi.Ic_720s_hc:518817:continuum' / DRMS ID                           \n",
       "PRIMARYK= 'T_REC, CAMERA'      / DRMS primary key                               \n",
       "LICENSE = 'LICENSE '           / CC0 1.0                                        \n",
       "BLANK   =               -32768                                                  \n",
       "CHECKSUM= 'ZdihiZigZdigfZig'   / HDU checksum updated 2022-12-17T10:35:39       \n",
       "DATASUM = '2002287265'         / data unit checksum updated 2022-12-17T10:35:39 \n",
       "                                                                                \n",
       "                                                                                "
      ]
     },
     "execution_count": 8,
     "metadata": {},
     "output_type": "execute_result"
    }
   ],
   "source": [
    "header"
   ]
  },
  {
   "cell_type": "markdown",
   "id": "3c8fb2f7-26b8-4250-8dc3-81ea35a24b3b",
   "metadata": {},
   "source": [
    "If you are interested in a specific key word you can call them like so:"
   ]
  },
  {
   "cell_type": "code",
   "execution_count": 9,
   "id": "e151f462-0cec-4dd0-a334-55414f19a860",
   "metadata": {},
   "outputs": [
    {
     "data": {
      "text/plain": [
       "0"
      ]
     },
     "execution_count": 9,
     "metadata": {},
     "output_type": "execute_result"
    }
   ],
   "source": [
    "header['QUALITY']"
   ]
  },
  {
   "cell_type": "markdown",
   "id": "1ab00b04-8522-45e9-b174-e659dc08982d",
   "metadata": {},
   "source": [
    "The keyword 'QUALITY' lets you know if any quality flags were raised. In this image no quality flags were raised so the value is zero. If a quality flag was raised the value will be nonzero and indicates there could be an issue with the data.\n",
    "\n",
    "The other part of the HDU is the data, which in this case is a 2D (NumPy) array sized 4096x4096. The HMI Ic data is a map of the continuum intensity of the solar spectrum and looks at the photosphere. In the header you'll see the units are DN/s (data number per second). HMI (and AIA) produce images by using a telescope to direct filtered light from the sun onto a CCD, which is a grid of individual light sensors that each corresponds to one pixel. Data number per second in this case is essentially how many photons are counted by each individual pixel in a second. The more photons a pixel detects, the brighter the area on the sun that pixel corresponds to.\n",
    "\n",
    "To access an individual element of the array you can use python container-like syntax:"
   ]
  },
  {
   "cell_type": "code",
   "execution_count": 10,
   "id": "7e038ac3-879d-429f-a080-b2ab8d702d71",
   "metadata": {},
   "outputs": [
    {
     "data": {
      "text/plain": [
       "45881.0"
      ]
     },
     "execution_count": 10,
     "metadata": {},
     "output_type": "execute_result"
    }
   ],
   "source": [
    "data[2000,1000] #access the element in row 2000, column 1000"
   ]
  },
  {
   "cell_type": "markdown",
   "id": "5c898b72-7c8f-48c9-b6e7-f7d1fdcb7ccb",
   "metadata": {},
   "source": [
    "\n",
    "\n",
    "You can also use slicing to look at rows (Y axis of the image):"
   ]
  },
  {
   "cell_type": "code",
   "execution_count": 11,
   "id": "7b4b5aac-02af-47df-b45d-abd49acbb6d6",
   "metadata": {},
   "outputs": [
    {
     "data": {
      "text/plain": [
       "array([nan, nan, nan, ..., nan, nan, nan], dtype=float32)"
      ]
     },
     "execution_count": 11,
     "metadata": {},
     "output_type": "execute_result"
    }
   ],
   "source": [
    "data[2000]"
   ]
  },
  {
   "cell_type": "markdown",
   "id": "4c0f3b09-8389-4fdd-9911-a2f10314ecf8",
   "metadata": {},
   "source": [
    "And columns (X axis of the image):"
   ]
  },
  {
   "cell_type": "code",
   "execution_count": 12,
   "id": "834d7ea2-b634-4527-a811-c42864279284",
   "metadata": {},
   "outputs": [
    {
     "data": {
      "text/plain": [
       "array([nan, nan, nan, ..., nan, nan, nan], dtype=float32)"
      ]
     },
     "execution_count": 12,
     "metadata": {},
     "output_type": "execute_result"
    }
   ],
   "source": [
    "data[:,1000]"
   ]
  },
  {
   "cell_type": "markdown",
   "id": "06a1ef25-4666-406e-abe9-5da05bfdec71",
   "metadata": {},
   "source": [
    "or smaller sections of the array:"
   ]
  },
  {
   "cell_type": "code",
   "execution_count": 13,
   "id": "f6e91b91-d53a-47e3-9c01-9aecee1f500f",
   "metadata": {},
   "outputs": [
    {
     "data": {
      "text/plain": [
       "array([[43544., 43172., 42800., 43679., 44747., 44567., 43643., 43823.,\n",
       "        44972., 45494.],\n",
       "       [44591., 43514., 43307., 44861., 46277., 45965., 44717., 44876.,\n",
       "        45977., 45590.],\n",
       "       [45494., 43919., 43466., 44909., 46238., 45761., 44930., 45680.,\n",
       "        46280., 45380.],\n",
       "       [44447., 43658., 43322., 43928., 44633., 44327., 44459., 45746.,\n",
       "        45839., 45173.],\n",
       "       [44036., 44246., 43901., 43421., 43436., 43316., 44039., 45473.,\n",
       "        45671., 45497.]], dtype=float32)"
      ]
     },
     "execution_count": 13,
     "metadata": {},
     "output_type": "execute_result"
    }
   ],
   "source": [
    "data[2000:2005,1010:1020] #elements from rows 2000-2005, and columns 1010-1020"
   ]
  },
  {
   "cell_type": "markdown",
   "id": "0feed408-7628-42d5-baed-a611948080f0",
   "metadata": {},
   "source": [
    "**Exercise 1**\n",
    "\n",
    "First, find the location (in pixels) of the brightest and dimmest pixel (Hint: Take a look at the header, the max and min pixel value are given). Then use the ancillary file with the time corresponding to the Ic data to convert the pixel location to the HelioGraphic Latitude and Longitude coordinates (latitude and longitude of the solar disk). All object keys belonging to the same data series use the same format, so you can copy the example object key from the table above and just replace the date and time. Also remember the ancillary files are 3D fits file. This means the data part of the HDU is 3D not 2D. There are N (4) arrays shaped (Y,X), in a single array of shape (N,Y,X), Longitude is N = 0 and Latitiude is N =1)."
   ]
  },
  {
   "cell_type": "code",
   "execution_count": 14,
   "id": "8db8df3a-eebb-4079-bbc4-76a0c528b943",
   "metadata": {},
   "outputs": [
    {
     "data": {
      "text/plain": [
       "54056.0"
      ]
     },
     "execution_count": 14,
     "metadata": {},
     "output_type": "execute_result"
    }
   ],
   "source": [
    "np.nanmax(data) #correct values of max"
   ]
  },
  {
   "cell_type": "code",
   "execution_count": 15,
   "id": "0d021e89-24c2-45df-a5eb-92cee1401c24",
   "metadata": {},
   "outputs": [
    {
     "data": {
      "text/plain": [
       "98.0"
      ]
     },
     "execution_count": 15,
     "metadata": {},
     "output_type": "execute_result"
    }
   ],
   "source": [
    "np.nanmin(data) #correct value of min"
   ]
  },
  {
   "cell_type": "code",
   "execution_count": 16,
   "id": "c30f3c18-4c38-4d3e-9a66-c26c95a0ba5b",
   "metadata": {},
   "outputs": [
    {
     "name": "stdout",
     "output_type": "stream",
     "text": [
      "[[2214 2033]]\n",
      "[[2156 4041]]\n"
     ]
    },
    {
     "data": {
      "text/plain": [
       "'\\n[[2214 2033]] max coordinate(x,y)\\n[[2156 4041]] min coordinate(x,y)\\n'"
      ]
     },
     "execution_count": 16,
     "metadata": {},
     "output_type": "execute_result"
    }
   ],
   "source": [
    "#pixel coordinates location\n",
    "solutions_max = np.argwhere(data == np.nanmax(data))\n",
    "solutions_min = np.argwhere(data == np.nanmin(data))\n",
    "print(solutions_max)\n",
    "print(solutions_min)\n",
    "\n",
    "\"\"\"\n",
    "[[2214 2033]] max coordinate(x,y)\n",
    "[[2156 4041]] min coordinate(x,y)\n",
    "\"\"\"\n",
    "\n",
    "\n"
   ]
  },
  {
   "cell_type": "code",
   "execution_count": 17,
   "id": "956b5348-dc2e-4953-aaaa-acb79d32e2a0",
   "metadata": {},
   "outputs": [],
   "source": [
    "fobj2 = s3c.get_object(Bucket=mybucket,Key= 'sdo/ancillary/20220101/LatLonVMu/sdo_ancillary_h2_20220101T012400_LatLonVMu_v1.fits')\n",
    "\n",
    "rawdata2 = fobj2['Body'].read()\n",
    "bdata2 = io.BytesIO(rawdata2) \n",
    "hdul2 = astropy.io.fits.open(bdata2,memmap=False)\n",
    "\n",
    "\n"
   ]
  },
  {
   "cell_type": "code",
   "execution_count": 18,
   "id": "e57bd3bf-6d0d-40d8-9737-c4f9bcd7ea51",
   "metadata": {},
   "outputs": [
    {
     "name": "stdout",
     "output_type": "stream",
     "text": [
      "Max long: 1.8564, Max lat: -0.4239, Min long: nan, Min lat: nan\n"
     ]
    }
   ],
   "source": [
    "data2=hdul2[1].data #first header data unit in this file\n",
    "#size(data2)\n",
    "\n",
    "max_long=data2[0,2214,2033]\n",
    "\n",
    "max_lat=data2[1,2214, 2033]\n",
    "\n",
    "min_long=data2[0,2156, 4041]\n",
    "min_lat=data2[1,2156, 4041]\n",
    "\n",
    "print(f\"Max long: {max_long}, Max lat: {max_lat}, Min long: {min_long}, Min lat: {min_lat}\")"
   ]
  },
  {
   "cell_type": "markdown",
   "id": "e6ed1059-60d8-4cf7-bf9d-0ab16dfd7eab",
   "metadata": {},
   "source": [
    "If you want more information on fits files you can check out AstroPy's documentation [here](https://docs.astropy.org/en/stable/io/fits/)"
   ]
  },
  {
   "cell_type": "markdown",
   "id": "c7cfd231-177e-4ac5-bc91-049924d70c27",
   "metadata": {
    "tags": []
   },
   "source": [
    "## SunPy\n",
    "\n",
    "To visualize and analyze the data we are going to use the package SunPy, which is a python specific package for heliophysics research. I will go over the basics of using SunPy.\n",
    "\n",
    "First lets plot the intensity continuum data from above as an image. For this we want to use SunPy Maps, which is a data array that is spatially aware. To create a map we are going to need the header and data which we already read in using AstroPy."
   ]
  },
  {
   "cell_type": "code",
   "execution_count": 19,
   "id": "9b955b5f-a118-403d-933f-1c094a55b2ee",
   "metadata": {},
   "outputs": [],
   "source": [
    "SolarMap = sunpy.map.Map(data,header)"
   ]
  },
  {
   "cell_type": "markdown",
   "id": "e51feaeb-b814-4392-87dc-ed0213e93782",
   "metadata": {},
   "source": [
    "Now lets plot the map!"
   ]
  },
  {
   "cell_type": "code",
   "execution_count": 20,
   "id": "8faf5b79-4263-41af-8431-b2b92750d300",
   "metadata": {},
   "outputs": [
    {
     "data": {
      "text/plain": [
       "<matplotlib.image.AxesImage at 0x7f39ee2f6f10>"
      ]
     },
     "execution_count": 20,
     "metadata": {},
     "output_type": "execute_result"
    },
    {
     "data": {
      "image/png": "[encoded data removed]",
      "text/plain": [
       "<Figure size 640x480 with 1 Axes>"
      ]
     },
     "metadata": {},
     "output_type": "display_data"
    }
   ],
   "source": [
    "SolarMap.plot(interpolation = 'none') #we need to make sure the data doesn't get interpolated before plotting"
   ]
  },
  {
   "cell_type": "markdown",
   "id": "6ee010cb-1662-4eaa-86ec-91ca6b340444",
   "metadata": {},
   "source": [
    "One of the benefits of using SunPy maps is when a map is created it pulls information from the header. That's how it knows our data is an HMI continuum image taken on April 23, 2022 at 6:58:40 TAI. It also constructs a coordinate frame from the header information (this is what I meant when I said SunPy maps are spatially aware.)\n",
    "\n",
    "The default coordinate frame for this data is the Helioprojective cartesian (HPC) coordinate frame as indicated by the labels (it is NOT longitude and latitiude, that is an error). You can imagine this frame as a grid that covers the entire image. The x and y coordinates are in arcseconds (\") which is a unit of angular measurement. SunPy in this case converted the pixels to arcseconds based on information in the header (one keyword gives the conversion of pixels to physical length).\n",
    "\n",
    "Before we go more into coordinate systems lets first talk about units and quantities. SunPy (and AstroPy) have functions that accept or return numbers associated with physical quantities. They do this by using astropy.units.quantities which are objects that represent a number (or an array of numbers) and a unit.\n",
    "\n",
    "You can create a quantity by multiplying a number by a unit:"
   ]
  },
  {
   "cell_type": "code",
   "execution_count": 21,
   "id": "8cb1b2fb-9c7d-4979-b050-64ffa0ca907a",
   "metadata": {},
   "outputs": [
    {
     "data": {
      "text/latex": [
       "$10 \\; \\mathrm{m}$"
      ],
      "text/plain": [
       "<Quantity 10. m>"
      ]
     },
     "execution_count": 21,
     "metadata": {},
     "output_type": "execute_result"
    }
   ],
   "source": [
    "import astropy.units as u\n",
    "\n",
    "length = 10 * u.meter\n",
    "length"
   ]
  },
  {
   "cell_type": "markdown",
   "id": "150ff3e6-5324-4493-b335-a3496c81d28f",
   "metadata": {},
   "source": [
    "You can decompose a quantity  into its unit and numerical value using the .unit and .value attributes:"
   ]
  },
  {
   "cell_type": "code",
   "execution_count": 22,
   "id": "df0be991-c466-41ae-9483-ba0c22243680",
   "metadata": {},
   "outputs": [
    {
     "data": {
      "text/plain": [
       "10.0"
      ]
     },
     "execution_count": 22,
     "metadata": {},
     "output_type": "execute_result"
    }
   ],
   "source": [
    "length.value  "
   ]
  },
  {
   "cell_type": "code",
   "execution_count": 23,
   "id": "a6a9b8fa-7b55-44a7-91b2-0708662c5ad8",
   "metadata": {},
   "outputs": [
    {
     "data": {
      "text/latex": [
       "$\\mathrm{m}$"
      ],
      "text/plain": [
       "Unit(\"m\")"
      ]
     },
     "execution_count": 23,
     "metadata": {},
     "output_type": "execute_result"
    }
   ],
   "source": [
    "length.unit"
   ]
  },
  {
   "cell_type": "markdown",
   "id": "d8e75587-985d-4911-9b21-6b4b20e388e4",
   "metadata": {},
   "source": [
    "Similarly to how units are used for representing physical quantities, SunPy uses astropy.coordinates to represent points in physical space. Coordinates are primarily handled with the SkyCoord class, which also makes use of the astropy units system. We also need to import the solar physics specific frames defined in sunpy separately.\n",
    "\n",
    "Lets create a SkyCoord object to represent a point on the sun. We'll define it in the coordinate frame of our SolarMap (Helioprojective Cartesian)."
   ]
  },
  {
   "cell_type": "code",
   "execution_count": 24,
   "id": "fda79127-63a5-4ae3-9132-94cc1ee19eaf",
   "metadata": {},
   "outputs": [],
   "source": [
    "from astropy.coordinates import SkyCoord\n",
    "from sunpy.coordinates import frames\n",
    "\n",
    "coord = SkyCoord(-250*u.arcsec, -250*u.arcsec, frame=SolarMap.coordinate_frame)  #SkyCoord() creates a skycoord object\n",
    "#Don't forget your units!"
   ]
  },
  {
   "cell_type": "markdown",
   "id": "13bf56bb-339e-4799-9d49-8683833bc28a",
   "metadata": {},
   "source": [
    "Now that we've created a coordinate lets transform it into another coordinate frame. (This works for frames defined in both AstroPy and SunPy).\n",
    "\n",
    "Specifically we are transforming to the Heliographic stonyhurst frame which gives the point in latitude and longitude (degrees) on the sun. Think of latitude and longitude lines on Earth except on the sun."
   ]
  },
  {
   "cell_type": "code",
   "execution_count": 25,
   "id": "25daa1a2-a057-4ac4-9e07-5b05eab7272c",
   "metadata": {},
   "outputs": [
    {
     "data": {
      "text/plain": [
       "<SkyCoord (HeliographicStonyhurst: obstime=2022-04-23T06:58:40.800, rsun=696000.0 km): (lon, lat, radius) in (deg, deg, m)\n",
       "    (-16.11075556, -19.85235114, 6.96e+08)>"
      ]
     },
     "execution_count": 25,
     "metadata": {},
     "output_type": "execute_result"
    }
   ],
   "source": [
    "coord.transform_to(frames.HeliographicStonyhurst) #coord.transform_to transforms it to whatever frame that you want"
   ]
  },
  {
   "cell_type": "markdown",
   "id": "17395982-b1b6-4eb9-8bc3-9351c1ba9827",
   "metadata": {},
   "source": [
    "SkyCoord and all coordinate frames support array coordinates so you can store multiple coordinates in a single object. This is great for situations where you need to apply the same operation to many different coordinates. "
   ]
  },
  {
   "cell_type": "code",
   "execution_count": 26,
   "id": "805d2d8f-5fba-414b-aee9-720655e2aaab",
   "metadata": {},
   "outputs": [
    {
     "data": {
      "text/plain": [
       "<SkyCoord (Helioprojective: obstime=2022-04-23T06:58:40.800, rsun=696000.0 km, observer=<HeliographicStonyhurst Coordinate (obstime=2022-04-23T06:58:40.800, rsun=696000.0 km): (lon, lat, radius) in (deg, deg, m)\n",
       "    (-0.01042223, -4.92017603, 1.50431544e+11)>): (Tx, Ty) in arcsec\n",
       "    [(-500.,  100.), (   0.,  200.), ( 100., -200.), ( 400.,  500.)]>"
      ]
     },
     "execution_count": 26,
     "metadata": {},
     "output_type": "execute_result"
    }
   ],
   "source": [
    "coord = SkyCoord([-500,0,100,400]*u.arcsec, [100, 200, -200, 500]*u.arcsec, frame=SolarMap.coordinate_frame)\n",
    "coord"
   ]
  },
  {
   "cell_type": "markdown",
   "id": "593e29f7-7543-42f9-9ea8-a09802d0ccae",
   "metadata": {},
   "source": [
    "Lets plot these points on the sun"
   ]
  },
  {
   "cell_type": "code",
   "execution_count": 27,
   "id": "8a88e81b-0864-4855-818f-f0443715d4bb",
   "metadata": {},
   "outputs": [
    {
     "data": {
      "text/plain": [
       "[<matplotlib.lines.Line2D at 0x7f39ec20bf50>]"
      ]
     },
     "execution_count": 27,
     "metadata": {},
     "output_type": "execute_result"
    },
    {
     "data": {
      "image/png": "[encoded data removed]",
      "text/plain": [
       "<Figure size 640x480 with 1 Axes>"
      ]
     },
     "metadata": {},
     "output_type": "display_data"
    }
   ],
   "source": [
    "#plot the figure\n",
    "fig = plt.figure()\n",
    "ax = fig.add_subplot(projection=SolarMap)\n",
    "SolarMap.plot(axes = ax, interpolation = 'none')\n",
    "ax.plot_coord(coord, \"o\", color='b')"
   ]
  },
  {
   "cell_type": "markdown",
   "id": "cf7c5bf0-f68a-4f9f-af55-ddbdefc52346",
   "metadata": {},
   "source": [
    "But what if we wanted to know what pixels these physical coordinates correspond to (or vice versa)? Each Map has an associated World Coordinate System (WCS) which is derived from the underlying metadata. WCS provides the transformation between pixel coordinates of the image and physical or 'world' coordinates. We'll use two methods: world_to_pixel and pixel_to_world. \n",
    "\n",
    "Let’s find the pixel location corresponding to the coordinates plotted in the cell above."
   ]
  },
  {
   "cell_type": "code",
   "execution_count": 28,
   "id": "015df3f4-cd88-4ae9-b846-4b4d1763df3d",
   "metadata": {},
   "outputs": [
    {
     "data": {
      "text/plain": [
       "(array([1047.49804129, 2047.5       , 2247.50001567, 2847.50100286]),\n",
       " array([2247.50060328, 2447.50012536, 1647.49982763, 3047.50383907]))"
      ]
     },
     "execution_count": 28,
     "metadata": {},
     "output_type": "execute_result"
    }
   ],
   "source": [
    "pixel_coord = SolarMap.wcs.world_to_pixel(coord)  #the data array is y,x\n",
    "pixel_coord"
   ]
  },
  {
   "cell_type": "markdown",
   "id": "a5dad279-00cd-422e-b7dd-1058797410df",
   "metadata": {},
   "source": [
    "Lets check our work by plotting the pixel coordinates and making sure they are in the same spot:"
   ]
  },
  {
   "cell_type": "code",
   "execution_count": 29,
   "id": "502df849-f3f4-4edc-81ad-e22ccf428806",
   "metadata": {},
   "outputs": [
    {
     "data": {
      "text/plain": [
       "[<matplotlib.lines.Line2D at 0x7f39ec227490>]"
      ]
     },
     "execution_count": 29,
     "metadata": {},
     "output_type": "execute_result"
    },
    {
     "data": {
      "image/png": "[encoded data removed]",
      "text/plain": [
       "<Figure size 640x480 with 1 Axes>"
      ]
     },
     "metadata": {},
     "output_type": "display_data"
    }
   ],
   "source": [
    "#plot the figure\n",
    "fig = plt.figure()\n",
    "ax = fig.add_subplot(projection=SolarMap)\n",
    "SolarMap.plot(axes = ax, interpolation = 'none')\n",
    "ax.plot(pixel_coord[0], pixel_coord[1], 'o', color='g')\n"
   ]
  },
  {
   "cell_type": "markdown",
   "id": "21308063-dda1-4ad2-9e6c-6ab9523c3373",
   "metadata": {},
   "source": [
    "We can also plot more than just points. Here is how you can plot lines of latitude and longitude"
   ]
  },
  {
   "cell_type": "code",
   "execution_count": null,
   "id": "cbfb0f9e-469e-4642-9713-19910290e94b",
   "metadata": {},
   "outputs": [],
   "source": [
    "#define the latitude and longitude lines (use the HelioGraphic Stonyhurst frame)\n",
    "lat_0 = 10 * u.deg\n",
    "lat0 = SkyCoord(np.linspace(-85, 85, 100) * u.deg, np.ones(100) * lat_0, frame=frames.HeliographicStonyhurst)\n",
    "\n",
    "lon_0 = 30 * u.deg\n",
    "lon0 = SkyCoord(np.ones(100) * lon_0, np.linspace(-90, 90, 100) * u.deg, frame=frames.HeliographicStonyhurst)\n",
    "\n",
    "#plot the figure\n",
    "fig = plt.figure()\n",
    "ax = fig.add_subplot(projection=SolarMap)\n",
    "SolarMap.plot(axes = ax, interpolation = 'none')\n",
    "ax.plot_coord(lat0, color=\"y\")\n",
    "ax.plot_coord(lon0, color=\"r\")\n"
   ]
  },
  {
   "cell_type": "markdown",
   "id": "0e31d128-cd02-4416-b673-596ecbe1a3d5",
   "metadata": {},
   "source": [
    "help(np.linspace)"
   ]
  },
  {
   "cell_type": "code",
   "execution_count": null,
   "id": "0c81b164-6b53-491e-aee4-80381f6daef5",
   "metadata": {},
   "outputs": [],
   "source": [
    "help(np.ones)"
   ]
  },
  {
   "cell_type": "markdown",
   "id": "a7a9a5fe-5692-43cb-89fd-054d41366d6e",
   "metadata": {},
   "source": [
    "You can even plot a quadrangle (green) or box (blue)"
   ]
  },
  {
   "cell_type": "code",
   "execution_count": null,
   "id": "cca7ac7c-0ac7-45e6-89f2-ba7879e9d598",
   "metadata": {},
   "outputs": [],
   "source": [
    "#Defining box using arcseconds (use helioprojective frame)\n",
    "top_rightb = SkyCoord(250 * u.arcsec, 500 * u.arcsec, frame=SolarMap.coordinate_frame)\n",
    "bottom_leftb = SkyCoord(-150 * u.arcsec, 200 * u.arcsec, frame=SolarMap.coordinate_frame)\n",
    "\n",
    "#define quadrangle using degree (use heliographic frame)\n",
    "bottom_leftq = SkyCoord(-40*u.deg, 5*u.deg,frame=frames.HeliographicStonyhurst)\n",
    "\n",
    "#plot the figure\n",
    "fig = plt.figure()\n",
    "ax = fig.add_subplot(projection=SolarMap)\n",
    "SolarMap.plot(axes = ax, interpolation = 'none')\n",
    "SolarMap.draw_quadrangle(bottom_leftb,axes=ax, top_right=top_rightb, \n",
    "                         edgecolor=\"b\",linestyle=\"--\",linewidth=2,)\n",
    "SolarMap.draw_quadrangle(bottom_leftq, axes=ax, width=20*u.deg, height=30*u.deg,\n",
    "                    edgecolor='g', linewidth=2)\n",
    "\n"
   ]
  },
  {
   "cell_type": "markdown",
   "id": "be84e0c4-f238-4313-a627-3c6d1ec29653",
   "metadata": {},
   "source": [
    "This project involves polar faculae which are faculae found in the polar regions of the sun. The polar regions are above 70 degrees latitude and below -70 degrees latitude. \n",
    "\n",
    "**Exercise 2**\n",
    "\n",
    "Try making a plot like the one above with the 70 and -70 degrees latitude lines plotted. Also convert the pixel coordinates of the brightest and dimmest pixel you found above to arcseconds. Then plot the brightest point as an 'x' and the dimmest point as an 'o'."
   ]
  },
  {
   "cell_type": "code",
   "execution_count": null,
   "id": "5d2b0d40-5a9b-40d3-9856-9b19c5f56fb3",
   "metadata": {},
   "outputs": [],
   "source": [
    "#code here\n",
    "#don't use ancillary file  use ic720s file data\n",
    "#define the latitude and longitude lines (use the HelioGraphic Stonyhurst frame)\n",
    "lat_north = 70 * u.deg\n",
    "latnorth = SkyCoord(np.linspace(-85, 85, 100) * u.deg, np.ones(100) * lat_north, frame=frames.HeliographicStonyhurst)\n",
    "\n",
    "lat_south = -70 * u.deg\n",
    "latsouth = SkyCoord(np.linspace(-85,85,100) * u.deg, np.ones(100) * lat_south, frame=frames.HeliographicStonyhurst)\n",
    "\n",
    "#coordinates of brightest and dimmest variables\n",
    "coordinatesMax = SkyCoord([solutions_max[0][0]]*u.arcsec, [solutions_max[0][1]]*u.arcsec, frame=frames.HeliographicStonyhurst)\n",
    "coordinatesMin = SkyCoord([solutions_min[0][0]]*u.arcsec, [solutions_min[0][1]]*u.arcsec, frame=frames.HeliographicStonyhurst)\n",
    "print(coordinatesMax)\n",
    "print(coordinatesMin)\n",
    "\n",
    "#plot the figure\n",
    "fig = plt.figure()\n",
    "ax = fig.add_subplot(projection=SolarMap)\n",
    "SolarMap.plot(axes = ax, interpolation = 'none')\n",
    "ax.plot_coord(latnorth, color=\"r\")\n",
    "ax.plot_coord(latsouth, color=\"r\")\n",
    "ax.plot_coord(coordinatesMax, \"x\", color='b')\n",
    "ax.plot_coord(coordinatesMin, \"o\",color='r', ms=3)\n"
   ]
  },
  {
   "cell_type": "code",
   "execution_count": null,
   "id": "bc4c8380-4d42-437f-9d60-eddff0cb9934",
   "metadata": {},
   "outputs": [],
   "source": [
    "print(solutions_min)\n",
    "print(np.nanmin(data))"
   ]
  },
  {
   "cell_type": "code",
   "execution_count": null,
   "id": "d37c6be4-abf2-4c47-98b6-2f3e16c76716",
   "metadata": {},
   "outputs": [],
   "source": [
    "solutions_max = np.argwhere(data == np.nanmax(data))\n",
    "solutions_min = np.argwhere(data == np.nanmin(data))\n",
    "\n",
    "#grabbing the coordinate values from the array\n",
    "print(solutions_max[0][0]) #xmax\n",
    "print(solutions_max[0][1]) #ymax\n",
    "print(solutions_min[0][0])  #x min\n",
    "print(solutions_min[0][1]) #y min"
   ]
  },
  {
   "cell_type": "markdown",
   "id": "9a6e46d0-b6a8-44c1-99f2-0178ca067bc9",
   "metadata": {},
   "source": [
    "If you plotted the latitude lines correctly you'll notice the South Pole is more visible than the North pole in this data. That is caused by the sun being tilted slightly on it's axis. In September the north pole is most visible and in March the south pole it most visible.\n",
    "\n",
    "Now let's zoom into the South pole by creating a submap."
   ]
  },
  {
   "cell_type": "code",
   "execution_count": null,
   "id": "71e8d96d-0b6d-4d43-8a00-1fbbbe1233fd",
   "metadata": {},
   "outputs": [],
   "source": [
    "#Define the boundaries of the submap using coordinates\n",
    "top_rightS = SkyCoord(350 * u.arcsec, -850 * u.arcsec, frame=SolarMap.coordinate_frame)\n",
    "bottom_leftS = SkyCoord(-350 * u.arcsec, -960 * u.arcsec, frame=SolarMap.coordinate_frame)\n",
    "\n",
    "#Create the submap\n",
    "submapS = SolarMap.submap(bottom_leftS, top_right=top_rightS)\n",
    "\n",
    "fig = plt.figure(figsize = (12,6)) #make the figure bigger\n",
    "ax = fig.add_subplot(projection=submapS)\n",
    "submapS.plot(axes = ax, interpolation = 'none')\n",
    "\n",
    "#If you don't want the axis or grid showing you can use these:\n",
    "#ax.set_axis_off()\n",
    "#ax.grid(False)"
   ]
  },
  {
   "cell_type": "markdown",
   "id": "20c279db-650f-4f65-abed-b8876179ea7d",
   "metadata": {},
   "source": [
    "You see those bright structures? Those are polar faculae which are the main focus of this project. They are a bit hard to see in this data due to limb darkening. This refers to an optical effect in stars that causes the center of the star to be brighter than the edge.\n",
    "\n",
    "Conveniently there is already some IC data in HelioCloud that has limb darkening removed called the IC_noLimbDark_720s data. This is the dataset I used to detect polar faculae with image segmentation, but more on that later.\n",
    "\n",
    "**Exercise 3**\n",
    "\n",
    "Open the IC_noLimbDark_720s data on 2014-09-18 T19:24:00 and 2019-09-14 T16:24:00 and turn them into sunpy maps. (Copy the example object key for the IC_noLimbDark_720s data from the top of the notebook and replace the date and times). Polar faculae are only 3% brighter than the background, so we are going to scale the data up using this equation to make them easier to see:\n",
    "\n",
    "$$\n",
    "Scaled Data = (Data ^{15})*100\n",
    "$$\n",
    "\n",
    "You can apply this directly to the sunpy map; just replace 'Data' with the name of your sunpy maps. Then plot the two scaled maps zoomed into the North pole. Below is a table of polar faculae coordinates. Convert the pixel coordinates to arcseconds and plot them on the sun.\n",
    "\n",
    "*Polar Faculae Coordinates 20140918:*\n",
    "\n",
    "| X [pixels] | Y [pixels] |\n",
    "|-----------|-------------|\n",
    "|1566.5570636496548 | 3790.342626338923 |\n",
    "|2578.3591066595504 |3828.7691196909313 |\n",
    "|1909.3729608952688 |3842.5712658083626 |\n",
    "\n",
    "*Polar Faculae Coordinates 20190914:*\n",
    "| X [pixels] | Y [pixels] |\n",
    "|-----------|-------------|\n",
    "|2321.184299353757 | 3767.7952379997014|\n",
    "|1901.1010662222136 |3878.801163555799|\n",
    "|2144.812322772056|3908.365649881144|\n"
   ]
  },
  {
   "cell_type": "code",
   "execution_count": null,
   "id": "e0decb54-1295-4e48-85f7-ab165cadf1cb",
   "metadata": {},
   "outputs": [],
   "source": [
    "#Your code here\n",
    "\n",
    "fobj3 = s3c.get_object(Bucket=mybucket,Key= 'sdo/hmi/20140918/Ic_noLimbDark/sdo_hmi_h2_20140918T192400_Ic_noLimbDark_v1.fits')\n",
    "\n",
    "#scaleddata=pow(data,15)*100\n",
    "rawdata3 = fobj3['Body'].read()\n",
    "bdata3 = io.BytesIO(rawdata3) \n",
    "hdul3 = astropy.io.fits.open(bdata3,memmap=False)\n",
    "\n",
    "#make data into sunpy map\n",
    "\n",
    "ICMap = sunpy.map.Map(hdul3[1].data, hdul3[1].header)\n",
    "\n",
    "#PFe coordinates converted to arcseconds\n",
    "scaledMap=(ICMap**15)*100\n",
    "#makes a skycoord object\n",
    "#giving it the pixel coordinates and telling it to convert to world coordinates\n",
    "#World Coordinate frame (wcs)\n",
    "xy=scaledMap.wcs.pixel_to_world([1566.5570636496548, 2578.3591066595504, 1909.3729608952688],[3790.342626338923, 3828.7691196909313, 3842.5712658083626])\n",
    "\n",
    "#plot the figure\n",
    "fig = plt.figure()\n",
    "ax = fig.add_subplot(projection=scaledMap)\n",
    "scaledMap.plot(axes = ax, interpolation = 'none')\n",
    "ax.plot_coord(xy, \"x\", color='b', ms=7)\n",
    "\n",
    "#Define the boundaries of the submap using coordinates\n",
    "top_rightS = SkyCoord(450 * u.arcsec, 840 * u.arcsec, frame=scaledMap.coordinate_frame)\n",
    "bottom_leftS = SkyCoord(-450 * u.arcsec, 960 * u.arcsec, frame=scaledMap.coordinate_frame)\n",
    "\n",
    "#Create the submap\n",
    "submapS = scaledMap.submap(bottom_leftS, top_right=top_rightS)\n",
    "\n",
    "fig = plt.figure(figsize = (12,6)) #make the figure bigger\n",
    "ax = fig.add_subplot(projection=submapS)\n",
    "ax.plot_coord(xy, \"x\", color='b', ms=7)\n",
    "submapS.plot(axes = ax, interpolation = 'none')"
   ]
  },
  {
   "cell_type": "code",
   "execution_count": null,
   "id": "8ba614a9-8f49-47c2-a5e9-45894f912011",
   "metadata": {},
   "outputs": [],
   "source": [
    "#make data into sunpy map\n",
    "\n",
    "fobj4 = s3c.get_object(Bucket=mybucket,Key= 'sdo/hmi/20190914/Ic_noLimbDark/sdo_hmi_h2_20190914T162400_Ic_noLimbDark_v1.fits')\n",
    "\n",
    "rawdata4 = fobj4['Body'].read()\n",
    "bdata4 = io.BytesIO(rawdata4) \n",
    "hdul4 = astropy.io.fits.open(bdata4,memmap=False)\n",
    "\n",
    "#make data into sunpy map\n",
    "ICMap2 = sunpy.map.Map(hdul4[1].data, hdul4[1].header)\n",
    "\n",
    "scaledMap2=(ICMap2**15)*100\n",
    "xy2=scaledMap2.wcs.pixel_to_world([2321.184299353757, 1901.1010662222136, 2144.812322772056], [3767.7952379997014, 3878.801163555799, 3908.365649881144])\n",
    "\n",
    "#plot the figure\n",
    "fig = plt.figure()\n",
    "ax = fig.add_subplot(projection=ICMap2)\n",
    "scaledMap2.plot(axes = ax, interpolation = 'none')\n",
    "\n",
    "ax.plot_coord(xy2, \"x\", color='b', ms=7)\n",
    "\n",
    "#Define the boundaries of the submap using coordinates\n",
    "top_rightS = SkyCoord(450 * u.arcsec, 840 * u.arcsec, frame=scaledMap2.coordinate_frame)\n",
    "bottom_leftS = SkyCoord(-450 * u.arcsec, 960 * u.arcsec, frame=scaledMap2.coordinate_frame)\n",
    "\n",
    "#Create the submap\n",
    "submapS = scaledMap2.submap(bottom_leftS, top_right=top_rightS)\n",
    "\n",
    "fig = plt.figure(figsize = (12,6)) #make the figure bigger\n",
    "ax = fig.add_subplot(projection=submapS)\n",
    "ax.plot_coord(xy2, \"x\", color='b', ms=7)\n",
    "submapS.plot(axes = ax, interpolation = 'none')\n"
   ]
  },
  {
   "cell_type": "markdown",
   "id": "0d381a80-e444-41c7-8c49-f76df99c9c8b",
   "metadata": {},
   "source": [
    "Next, for the same two times, find the corresponding vector B field data in the radial direction (Br). Open and plot the data zoomed into the same view you used above. No scaling is needed for this data. However, the default colormap might be hard to see so you may need to change it. Pick a diverging colormap from matplotlib or cmasher if you have it installed and use it instead. Then find the radial magnetic field value of the polar faculae using the coordinates from the table above (The data array is shaped (Y,X) btw).\n",
    "\n",
    "You can change the colormap in this line like so:\n",
    ">submapS.plot(axes = ax, interpolation = 'none', cmap = 'name of colormap you pick')\n",
    "\n",
    "A quick note on colormaps and picking colors for graphs in general. A good scientific colormap is often described as *perceptually uniform sequential* which mean the colormap is perceived as uniformly changing in lightness and saturation. This is important so data values are interpreted correctly by the viewer without giving false information (if you want to learn more check out [this article](https://mycartablog.com/2012/10/14/the-rainbow-is-deadlong-live-the-rainbow-part-4-cie-lab-heated-body/)). You should also pick a color map that is easy to read for people with color-vision deficiencies (blue and red is usually safe)."
   ]
  },
  {
   "cell_type": "code",
   "execution_count": null,
   "id": "d6c0fde3-731b-47b6-942d-f439a2342a15",
   "metadata": {},
   "outputs": [],
   "source": [
    "#your code here\n",
    "#magnetic field map doesn't need to be scaled\n",
    "#HMI Radial magnetic field component: sdo/hmi/20221002/B/sdo_hmi_h2_20221002T003600_Br_v1.fits\n",
    "# 2014-09-18 T19:24:00\n",
    "fobj5 = s3c.get_object(Bucket=mybucket,Key= 'sdo/hmi/20140918/B/sdo_hmi_h2_20140918T192400_Br_v1.fits')\n",
    "\n",
    "#submapS.plot(axes = ax, interpolation = 'none', cmap = 'name of colormap you pick')\n",
    "rawdata5 = fobj5['Body'].read()\n",
    "bdata5 = io.BytesIO(rawdata5) \n",
    "hdul5 = astropy.io.fits.open(bdata5,memmap=False)\n",
    "\n",
    "ICMap = sunpy.map.Map(hdul5[1].data, hdul5[1].header)\n",
    "\n",
    "#PFe coordinates converted to arcseconds\n",
    "#makes a skycoord object\n",
    "#giving it the pixel coordinates and telling it to convert to world coordinates\n",
    "#World Coordinate frame (wcs)\n",
    "xy=ICMap.wcs.pixel_to_world([1566.5570636496548, 2578.3591066595504, 1909.3729608952688],[3790.342626338923, 3828.7691196909313, 3842.5712658083626])\n",
    "\n",
    "#plot the figure\n",
    "\n",
    "#Define the boundaries of the submap using coordinates\n",
    "top_rightS = SkyCoord(450 * u.arcsec, 840 * u.arcsec, frame=ICMap.coordinate_frame)\n",
    "bottom_leftS = SkyCoord(-450 * u.arcsec, 960 * u.arcsec, frame=ICMap.coordinate_frame)\n",
    "\n",
    "#Create the submap\n",
    "submapS = ICMap.submap(bottom_leftS, top_right=top_rightS)\n",
    "\n",
    "fig = plt.figure(figsize = (12,6)) #make the figure bigger\n",
    "ax = fig.add_subplot(projection=submapS)\n",
    "ax.plot_coord(xy, \"x\", color='b', ms=7)\n",
    "submapS.plot(axes = ax, interpolation = 'none', cmap='hot')"
   ]
  },
  {
   "cell_type": "code",
   "execution_count": null,
   "id": "55baad97-c486-47db-aa31-7ea0c2f78aaf",
   "metadata": {},
   "outputs": [],
   "source": [
    "#2019-09-14 T16:24:00\n",
    "fobj6 = s3c.get_object(Bucket=mybucket,Key= 'sdo/hmi/20190914/B/sdo_hmi_h2_20190914T162400_Br_v1.fits')\n",
    "\n",
    "#submapS.plot(axes = ax, interpolation = 'none', cmap = 'name of colormap you pick')\n",
    "\n",
    "#submapS.plot(axes = ax, interpolation = 'none', cmap = 'name of colormap you pick')\n",
    "rawdata6 = fobj6['Body'].read()\n",
    "bdata6 = io.BytesIO(rawdata6) \n",
    "hdul6 = astropy.io.fits.open(bdata6,memmap=False)\n",
    "\n",
    "ICMap2 = sunpy.map.Map(hdul6[1].data, hdul6[1].header)\n",
    "\n",
    "#PFe coordinates converted to arcseconds\n",
    "#makes a skycoord object\n",
    "#giving it the pixel coordinates and telling it to convert to world coordinates\n",
    "#World Coordinate frame (wcs)\n",
    "xy2=ICMap2.wcs.pixel_to_world([2321.184299353757, 1901.1010662222136, 2144.812322772056], [3767.7952379997014, 3878.801163555799, 3908.365649881144])\n",
    "\n",
    "#plot the figure\n",
    "\n",
    "#Define the boundaries of the submap using coordinates\n",
    "top_rightS = SkyCoord(450 * u.arcsec, 840 * u.arcsec, frame=ICMap2.coordinate_frame)\n",
    "bottom_leftS = SkyCoord(-450 * u.arcsec, 960 * u.arcsec, frame=ICMap2.coordinate_frame)\n",
    "\n",
    "#Create the submap\n",
    "submapS = ICMap2.submap(bottom_leftS, top_right=top_rightS)\n",
    "\n",
    "fig = plt.figure(figsize = (12,6)) #make the figure bigger\n",
    "ax = fig.add_subplot(projection=submapS)\n",
    "ax.plot_coord(xy2, \"x\", color='b', ms=7)\n",
    "submapS.plot(axes = ax, interpolation = 'none', cmap='hot')"
   ]
  },
  {
   "cell_type": "code",
   "execution_count": null,
   "id": "47de1672-24c4-411e-9305-012ae6cb213c",
   "metadata": {},
   "outputs": [],
   "source": []
  },
  {
   "cell_type": "markdown",
   "id": "43fba783-437a-4b05-a491-17a17bf3cff4",
   "metadata": {},
   "source": [
    "For more info on coordinates check out SunPy's documentation [here](https://docs.sunpy.org/en/stable/tutorial/coordinates.html). SunPy also has their own tutorial [here](https://docs.sunpy.org/en/stable/tutorial/index.html)\n",
    "\n",
    "If you want some examples of what you can do with SunPy check out their example gallery [here](https://docs.sunpy.org/en/stable/generated/gallery/index.html)."
   ]
  },
  {
   "cell_type": "markdown",
   "id": "3c5d4a25-0a36-4e4f-8c89-56450527e4ce",
   "metadata": {
    "tags": []
   },
   "source": [
    "## Pandas"
   ]
  },
  {
   "cell_type": "markdown",
   "id": "3020e4df-53d0-42c2-a559-05d2782e8104",
   "metadata": {},
   "source": [
    "For this project we are going to want to look at multiple images over time. There are two options to query the data. You could use the registry files which are csv files listing all object keys in HelioCloud. Or you could utilize the fact that the object keys have the same format (i.e all intensity continuum images have the format sdo/hmi/YYYYMMDD/Ic/sdo_hmi_h2_YYYYMMDDThhmmss_Ic_v1.fits) and create the object keys by combining strings.\n",
    "\n",
    "I recommend the second option because it is fairly simple to do using pandas datetime. \n",
    "\n",
    "You can define a datetime object like so:"
   ]
  },
  {
   "cell_type": "code",
   "execution_count": null,
   "id": "70ec50bf-b12e-4420-bea2-77cd6b30a671",
   "metadata": {},
   "outputs": [],
   "source": [
    "header"
   ]
  },
  {
   "cell_type": "code",
   "execution_count": null,
   "id": "cd665a6b-498b-473f-ac36-f70565a9296f",
   "metadata": {},
   "outputs": [],
   "source": []
  },
  {
   "cell_type": "code",
   "execution_count": null,
   "id": "e9bec8d9-60a9-4d6b-8c72-70617eeac058",
   "metadata": {},
   "outputs": [],
   "source": [
    "from datetime import datetime, timedelta\n",
    "\n",
    "time = datetime(2019,2,1) #datetime for  hour zero on February 1st, 2019"
   ]
  },
  {
   "cell_type": "markdown",
   "id": "0341b20f-0125-4d31-b376-faf0f1923415",
   "metadata": {},
   "source": [
    "You can then convert the datetime object to a string in a format of your choosing like this:"
   ]
  },
  {
   "cell_type": "code",
   "execution_count": null,
   "id": "2285a73f-af3c-47be-9dd3-e6c95804e045",
   "metadata": {},
   "outputs": [],
   "source": [
    "time.strftime(\"%Y-%m-%d\")"
   ]
  },
  {
   "cell_type": "markdown",
   "id": "d6021ef0-e188-41d9-b675-1ec117e98222",
   "metadata": {},
   "source": [
    "or this:"
   ]
  },
  {
   "cell_type": "code",
   "execution_count": null,
   "id": "8077dc15-6209-45c3-bda3-1483fecfe4d1",
   "metadata": {},
   "outputs": [],
   "source": [
    "time.strftime(\"%m.%d.%Y\")"
   ]
  },
  {
   "cell_type": "markdown",
   "id": "a1d859c9-8d53-4ed3-8a08-8d110d74e7cc",
   "metadata": {},
   "source": [
    "or even this:"
   ]
  },
  {
   "cell_type": "code",
   "execution_count": null,
   "id": "46b0e653-d4d6-45e6-bb29-def037da1e99",
   "metadata": {},
   "outputs": [],
   "source": [
    "time.strftime(\"%B, %d in the year %Y was a %A\")"
   ]
  },
  {
   "cell_type": "markdown",
   "id": "1d78c6ab-6612-4129-ad63-6d3f8740f5ae",
   "metadata": {},
   "source": [
    "You can also use datetime to create a list of dates a certain interval apart within a range\n",
    "\n",
    "First set the start and end date:"
   ]
  },
  {
   "cell_type": "code",
   "execution_count": null,
   "id": "a39d0d65-77cc-4cd2-8d91-042ac29945e4",
   "metadata": {},
   "outputs": [],
   "source": [
    "start_dt = datetime(2019,2,1,0)\n",
    "end_dt = datetime(2019,2,1,23) #note hours are 0-23,"
   ]
  },
  {
   "cell_type": "markdown",
   "id": "64986462-54da-411d-b3d4-bedd8505e7b0",
   "metadata": {},
   "source": [
    "Then set the interval you want between each time:"
   ]
  },
  {
   "cell_type": "code",
   "execution_count": null,
   "id": "056eda89-c3b7-4706-a1ed-fc4a101cde13",
   "metadata": {},
   "outputs": [],
   "source": [
    "delta = timedelta(hours = 1)\n",
    "\n",
    "#timedelta can be: days=?, seconds=?, microseconds=?, milliseconds=?, minutes=?, hours=?, weeks=?"
   ]
  },
  {
   "cell_type": "markdown",
   "id": "d732726f-4970-462b-b002-e90cc76bbee3",
   "metadata": {},
   "source": [
    "Then iterate through and make your list:"
   ]
  },
  {
   "cell_type": "code",
   "execution_count": null,
   "id": "d398354b-6a93-4452-8414-1f55dca9bdc5",
   "metadata": {},
   "outputs": [],
   "source": [
    "#Then iterate through and add to list\n",
    "list_of_dates = []\n",
    "while start_dt <= end_dt:\n",
    "    # add current date to list by converting it to iso format\n",
    "    list_of_dates.append(start_dt.strftime(\"%Y-%m-%d %H:00\"))\n",
    "    # increment start date by timedelta\n",
    "    start_dt += delta\n",
    "    \n",
    "print(list_of_dates)"
   ]
  },
  {
   "cell_type": "markdown",
   "id": "5bd45ab2-c6ea-4b6e-aba5-788e49188177",
   "metadata": {},
   "source": [
    "**Exercise 4** \n",
    "\n",
    "Using the hmi.IC_720s data: Plot SDO's radial velocity (velocity of SDO away from the sun) every 12 minutes over the course of two days. Also plot the mean value of all valid pixels every hour during the same two days.\n",
    "\n",
    "(Hint: Look at the header. Also the 720s data only exists for these times: hh:00:00, hh:12:00, hh:24:00, hh:36:00, or hh:48:00. This is true for every 720s series.)\n",
    "\n",
    "Note that there are some times where data may be missing. This could happen for many reasons, but often times it is because SDO's view gets blocked by either the moon or the Earth during it's eclipse season. One downside of creating the strings yourself is you don't know if the data is actually in HelioCloud or not (if it isn't it will throw an error). It's easy to get around this using python's 'Try and Except' statements."
   ]
  },
  {
   "cell_type": "code",
   "execution_count": null,
   "id": "05a91350-582e-4915-91a1-86cd39e308c0",
   "metadata": {},
   "outputs": [],
   "source": [
    "header1 = hdul7[1].header"
   ]
  },
  {
   "cell_type": "code",
   "execution_count": null,
   "id": "c7812639-c654-482a-8503-bf8ec7f66c01",
   "metadata": {},
   "outputs": [],
   "source": [
    "header1"
   ]
  },
  {
   "cell_type": "code",
   "execution_count": null,
   "id": "5bca2388-08fe-4b84-a57b-3d050aa71b5b",
   "metadata": {},
   "outputs": [],
   "source": [
    "#hmi.IC_720s dataPlot SDO's radial velocity (velocity of SDO away from the sun) every 12 minutes over the course of two days \n",
    "#plot the mean value of all valid pixels every hour during the same two days.\n",
    "#create a loop that goes through 24 hrs and the 5 times then close the file and \n",
    "#radial velocity-measures speed of the satellite going back and forth\n",
    "times=[]\n",
    "rv_data=[]\n",
    "mean_nums=[]\n",
    "\n",
    "    \n",
    "for day in ['18', '19']:\n",
    "    for hour in range(24):\n",
    "        hh=\"%.2d\" % hour\n",
    "        for mins in range(0,49,12):\n",
    "            mm=\"%.2d\" % mins\n",
    "            fileName='sdo/hmi/202209' + day +'/Ic/sdo_hmi_h2_202209' + day +'T' + hh+ mm + '00_Ic_v1.fits'\n",
    "            #print(fileName)\n",
    "\n",
    "            fobj7 = s3c.get_object(Bucket=mybucket,Key= fileName)\n",
    "            rawdata7 = fobj7['Body'].read()\n",
    "            bdata7 = io.BytesIO(rawdata7) \n",
    "            hdul7 = astropy.io.fits.open(bdata7,memmap=False)\n",
    "            header1=hdul7[1].header\n",
    "            rv_data.append(header1['OBS_VR'])\n",
    "            times.append(header1['T_REC'])\n",
    "            mean_nums.append(header1['DATAMEAN'])\n",
    "            \n",
    "            \n",
    "print(rv_data)\n"
   ]
  },
  {
   "cell_type": "code",
   "execution_count": null,
   "id": "8f60d715-dfe9-46e8-b0e9-69e5c104712f",
   "metadata": {},
   "outputs": [],
   "source": [
    "import datetime\n",
    "\n",
    "times_for_rv=[]\n",
    "for time in times:\n",
    "    times_for_rv.append(datetime.datetime.strptime(time[:-8], '%Y.%m.%d_%H:%M:%S'))\n",
    "#print(times)\n",
    "#print(times_for_rv)\n",
    "\n",
    "new_times_arr=[]\n",
    "for val in times_for_rv:\n",
    "    new_times_arr.append((val-times_for_rv[0])/timedelta(hours=1))\n",
    "print(new_times_arr)\n",
    "\n"
   ]
  },
  {
   "cell_type": "code",
   "execution_count": null,
   "id": "d94224b1-504e-4478-af73-f42cbb84eed2",
   "metadata": {},
   "outputs": [],
   "source": [
    "\n",
    "#plot SDO's radial velocity (velocity of SDO away from the sun) every 12 minutes over the course of two days\n",
    "\n",
    "fig1 = plt.figure(figsize = (8,6),layout=\"constrained\")\n",
    "\n",
    "plt.plot(new_times_arr, rv_data, label='radial velocity')\n",
    "plt.xlabel(\"Time since \" + str(times_for_rv[0]) + \" (hours)\")\n",
    "plt.ylabel(\"Radial Velocity (km/s)\")\n",
    "plt.title(\"SDO Radial Velocity for two days\")\n",
    "plt.grid()\n",
    "    \n",
    "plt.legend(title='Radial Velocity')\n",
    "plt.show()\n",
    "\n",
    "#plot the mean value of all valid pixels every hour during the same two days."
   ]
  },
  {
   "cell_type": "code",
   "execution_count": null,
   "id": "db2c301f-5817-462e-9b82-6bdb2588fd1a",
   "metadata": {},
   "outputs": [],
   "source": [
    "fig2=plt.figure(figsize = (8,6),layout=\"constrained\")\n",
    "plt.plot(new_times_arr,mean_nums, label='Mean pixel value')\n",
    "plt.xlabel(\"Time since \" + str(times_for_rv[0]) + \" (hours)\")\n",
    "plt.ylabel(\"Mean value of all pixels)\")\n",
    "plt.title(\"SDO pixel values for two days\")\n",
    "plt.grid()\n",
    "    \n",
    "plt.legend(title='Mean pixel values')\n",
    "plt.show()"
   ]
  },
  {
   "cell_type": "code",
   "execution_count": null,
   "id": "8fa66346-f593-495a-b78e-e36a7aa1fa25",
   "metadata": {},
   "outputs": [],
   "source": [
    "#plot the mean value of all valid pixels every hour during the same two days.\n",
    "#T-REC\n",
    "import datetime\n",
    "timerv=header1['T_REC']\n",
    "\n",
    "for time in times:\n",
    "    timerv=header1['T_REC']\n",
    "    "
   ]
  },
  {
   "cell_type": "code",
   "execution_count": null,
   "id": "2619424b-67cb-4cfc-8c51-9febd9ba4c28",
   "metadata": {},
   "outputs": [],
   "source": [
    "for hour in range(24):\n",
    "    #hours=str(hour)\n",
    "    strhr=\"%.2d\" % hour\n",
    "    print(strhr)\n",
    "print(type(\"%.2d\" % hour))\n"
   ]
  },
  {
   "cell_type": "code",
   "execution_count": null,
   "id": "613858e8-0a37-4be3-bff1-27ab6474e2b2",
   "metadata": {},
   "outputs": [],
   "source": [
    "for mins in range(0,49,12):\n",
    "    #hours=str(hour)\n",
    "    mm=\"%.2d\" % mins\n",
    "    print(mm)\n",
    "print(type(mm))"
   ]
  },
  {
   "cell_type": "code",
   "execution_count": null,
   "id": "27627ed1-53aa-4dfe-9845-a8991a588943",
   "metadata": {},
   "outputs": [],
   "source": [
    "header=hdul7[1].header\n",
    "header\n",
    "#header['OBS_VR']\n",
    "\n"
   ]
  },
  {
   "cell_type": "code",
   "execution_count": null,
   "id": "23bb43ff-4030-4fd3-a1ab-579f83c6f828",
   "metadata": {},
   "outputs": [],
   "source": [
    "#sdo/hmi/20221002/V/sdo_hmi_h2_20221002T000000_V_v1.fits"
   ]
  },
  {
   "cell_type": "markdown",
   "id": "7a9f49ed-f8b2-4cf5-9ab6-de968cd6de95",
   "metadata": {},
   "source": [
    "## Polar Faculae Data\n",
    "\n",
    "Now that I've gone over the basics of SunPy and working with solar data, I'll go over the polar faculae data that I collected.\n",
    "\n",
    "There is the PFe count data which was gathered using the script here: efs/jrclark/PFe-Counting.ipynb.\n",
    "This code first averaged the hmi.Ic_noLimbDark_720s data over an hour and then uses [image segmentation](https://photutils.readthedocs.io/en/stable/segmentation.html) to count PFe in the North and South pole. The image segmentation function returns a 'segmentation image' which is an array showing where PFe were detected (each PFe has a unique positive interger value).\n",
    "\n",
    "The 3600s averaged data and segmentation images for the North and South pole were saved as fit files in the following folders (the fits files are sorted in subfolders):\n",
    "\n",
    "*The 3600s averaged data:*\n",
    ">efs/jrclark/Saved FITS/Avg Maps/YYYY_MM\n",
    "\n",
    "*The segmentation images (North and South respectively):*\n",
    ">efs/jrclark/Saved FITS/Northern PFe Masks/YYYY_MM <br>\n",
    ">efs/jrclark/Saved FITS/Southern PFe Masks/YYYY_MM\n",
    "\n",
    "The count data itself was saved as csv (comma separated value) files in the following locations:\n",
    "\n",
    "*The hourly PFe count data (raw data) was saved here:*\n",
    ">efs/jrclark/PFe Data/Hourly\n",
    "\n",
    "*The daily count averaged data are saved here:*\n",
    ">efs/jrclark/PFe Data/Daily_Averages\n",
    "\n",
    "There are also PFe catalogs which have information about individual PFe such as the magnetic field, intensity, area, and location. These were created using the script in efs/jrclark/PFe_Catalogs.ipynb.\n",
    "\n",
    "Unlike the count data, there are only catalogs for one month of the year (Northern PFe in September, Southern PFe in March). A single catalog is made for each image (5 chosen randomly for each day in a month) and have information for every individual PFe detected in that image. This data can be found here (Also have yearly subfolders):\n",
    "\n",
    ">efs/jrclark/PFe Data/PFe_Catalogs/N PFe Characteristics/YYYY_MM <br>\n",
    ">efs/jrclark/PFe Data/PFe_Catalogs/S PFe Characteristics/YYYY_MM\n",
    "\n",
    "Let's open one of the count CSV files using pandas dataframes:"
   ]
  },
  {
   "cell_type": "code",
   "execution_count": null,
   "id": "907b6784-7239-4f62-82c2-cf1db14f8138",
   "metadata": {},
   "outputs": [],
   "source": [
    "df = pd.read_csv('/efs/jrclark/PFe Data/Hourly/Sep_2019_Counts.csv')\n",
    "df"
   ]
  },
  {
   "cell_type": "markdown",
   "id": "6bcf6764-278b-4489-ba6e-78cc99f16772",
   "metadata": {},
   "source": [
    "The pandas dataframe is a structure that contains two dimensional data and it's corresponding labels. The row names are given in bold on the right most column and the column names are given in bold across the top. Dataframes are similar to excel spreadsheets and make working with data easier. \n",
    "\n",
    "Each row in the hourly count data is a single hour. The first row is the date and time. Just the day is given in the second row. The PFe counts are given in the 3rd and 4th column called \"North Count\" and \"South Count\".\n",
    "\n",
    "You can use the column names to call specific columns using either method below:"
   ]
  },
  {
   "cell_type": "code",
   "execution_count": null,
   "id": "12d50bde-d4ec-4109-bd72-b1b4d80df893",
   "metadata": {},
   "outputs": [],
   "source": [
    "df.Day"
   ]
  },
  {
   "cell_type": "code",
   "execution_count": null,
   "id": "5ef3a397-0469-4f4e-9a21-4aabedbdd5f4",
   "metadata": {},
   "outputs": [],
   "source": [
    "df['North Count']"
   ]
  },
  {
   "cell_type": "markdown",
   "id": "2e991e32-de40-40c8-952a-f597415d9349",
   "metadata": {},
   "source": [
    "It is also possible to call specific rows or a group of rows using the row indices. Note you are calling rows by their row labels not indexing. Negative numbers won't work."
   ]
  },
  {
   "cell_type": "code",
   "execution_count": null,
   "id": "ad6261f9-5a73-4fa4-93f6-b43f0dafddc4",
   "metadata": {},
   "outputs": [],
   "source": [
    "df.iloc[6]"
   ]
  },
  {
   "cell_type": "code",
   "execution_count": null,
   "id": "fa147017-ccb2-44cc-9c2c-de6aaa3e0ae4",
   "metadata": {},
   "outputs": [],
   "source": [
    "df.iloc[10:20]"
   ]
  },
  {
   "cell_type": "markdown",
   "id": "5a358e6a-c874-4035-9bcd-49a3792b7fe4",
   "metadata": {},
   "source": [
    "You can also slice single columns instead of the entire dataframe like so:"
   ]
  },
  {
   "cell_type": "code",
   "execution_count": null,
   "id": "4c6c65a9-e316-413b-98f3-ea3f900eb712",
   "metadata": {},
   "outputs": [],
   "source": [
    "df.Day[5:10]"
   ]
  },
  {
   "cell_type": "markdown",
   "id": "13030df2-7a7c-42a1-9739-965521964a09",
   "metadata": {},
   "source": [
    "You can easily convert a column, section of a column, or row to a list by adding .tolist()"
   ]
  },
  {
   "cell_type": "code",
   "execution_count": null,
   "id": "861d231f-d18d-4d1b-9d7a-04377b959eb7",
   "metadata": {},
   "outputs": [],
   "source": [
    "df.Day[5:10].tolist()"
   ]
  },
  {
   "cell_type": "code",
   "execution_count": null,
   "id": "748e9d27-97e3-4466-9673-852c2186a921",
   "metadata": {},
   "outputs": [],
   "source": [
    "df.iloc[6].tolist()"
   ]
  },
  {
   "cell_type": "markdown",
   "id": "7b66d135-529f-454e-a741-d67b95ea6564",
   "metadata": {},
   "source": [
    "Some times, like row 6, don't have any PFe counts recorded. The error column indicates why no PFe were counted. Lets take a look at some of the possible errors given. To do this we will use .unique() which gives all the unique values that appear in a column."
   ]
  },
  {
   "cell_type": "code",
   "execution_count": null,
   "id": "3992cc80-9f40-40dc-bdb5-9d47e79fd4a3",
   "metadata": {},
   "outputs": [],
   "source": [
    "df['Error'].unique()"
   ]
  },
  {
   "cell_type": "markdown",
   "id": "f7070748-278d-45d9-be38-eb7bbf0bf703",
   "metadata": {},
   "source": [
    "We can see only 3 errors were given in this particular dataframe: nan, N_Maps < 5, and No Map24. 'nan' means no error was given so PFe were counted. 'No Map24' means the data at 24 minutes past the hour was missing so the other data couldn't be derotated to that time. 'N_Maps < 5' means that at least one of the five 720s data in an hour was missing. (I didn't derotate data if one of the maps were missing. You'll note one of the columns is called N_Maps which indicates how many of the 720s data were collected in that hour (between 0 and 5).\n",
    "\n",
    "If you are looking at data from before 2013 you might notice an error called \"Keys DNE\". Originally when I ran the code I was using list files to gather the data keys. Sometimes the list file would have an object key that didn't actually exist in HelioCloud. (This is why I'm not having you use the registry files...)\n",
    "\n",
    "<hr>\n",
    "\n",
    "The count data is a time series data (we have counts over time). I recommend using pandas datetimes for the x axis if you want to plot the data. This makes it so the plot is aware the x axis are dates so you don't have to worry about it. \n"
   ]
  },
  {
   "cell_type": "code",
   "execution_count": null,
   "id": "82d92dc2-cb2b-4572-a120-bac84c3ce0a4",
   "metadata": {},
   "outputs": [],
   "source": [
    "from matplotlib.dates import DayLocator, HourLocator, DateFormatter, YearLocator, MonthLocator\n",
    "\n",
    "fig, ax = plt.subplots()\n",
    "\n",
    "#Convert portion of datetime column to pandas datetime objects\n",
    "dates = pd.to_datetime(df['Datetime'])\n",
    "\n",
    "#Make the plot\n",
    "ax.plot(dates, df['North Count'])\n",
    "\n",
    "#format x axis labels:\n",
    "#set major axis to once every two years on September 1st\n",
    "ax.xaxis.set_major_locator(DayLocator(interval=7))\n",
    "#set minor axis to march and september every year\n",
    "ax.xaxis.set_minor_locator(DayLocator())\n",
    "#format the major axis labels should be in\n",
    "ax.xaxis.set_major_formatter(DateFormatter('%Y-%m-%d'))\n",
    "\n",
    "fig.autofmt_xdate()           "
   ]
  },
  {
   "cell_type": "markdown",
   "id": "64dabdc5-b05f-4539-9079-70d4b2c256b2",
   "metadata": {},
   "source": [
    "**Exercise 5**\n",
    "\n",
    "See if you can plot the entire Northern and Southern PFe count data (2010-2022) as a scatter plot using matplotlib. Make sure your plot has a title, axis labels, grid lines, and a legend. If you don't know how to do this check out matplotlib's documentation and examples."
   ]
  },
  {
   "cell_type": "code",
   "execution_count": null,
   "id": "0968fb0c-73a2-4b77-b55b-5a05b1840332",
   "metadata": {},
   "outputs": [],
   "source": [
    "from matplotlib.dates import DayLocator, HourLocator, DateFormatter, YearLocator, MonthLocator\n",
    "\n",
    "PATH='/efs/jrclark/PFe Data/Hourly/'\n",
    "\n",
    "fileNames = os.listdir(PATH)\n",
    "#print(fileNames)\n",
    "\n",
    "fileNames = [file for file in fileNames if '.csv' in file]\n",
    "\n",
    "data_list=[]\n",
    "for file in fileNames:\n",
    "\n",
    "    ### Read .csv file and append to list\n",
    "    df = pd.read_csv(PATH + file)\n",
    "    data_list.append(df)\n",
    "\n",
    "#combining all csv files to plot\n",
    "tot_data = pd.concat(data_list)\n",
    "tot_data['Datetime'] = pd.to_datetime(tot_data['Datetime'])\n",
    "    \n",
    "#fig, ax = plt.subplots()\n",
    "plt.xlabel(\"Year (2010-2022)\")\n",
    "plt.ylabel(\"PFe count\")\n",
    "plt.title(\"Northern and Southern PFe count data (2010-2022)\")\n",
    "plt.grid()\n",
    "\n",
    "#plotting the north and south data\n",
    "plt.scatter(tot_data['Datetime'], tot_data['North Count'], label='North Count')\n",
    "plt.scatter(tot_data['Datetime'], tot_data['South Count'], label='South Count')\n",
    "    \n",
    "plt.legend(title='North and South PFe count')\n",
    "plt.show()\n"
   ]
  },
  {
   "cell_type": "markdown",
   "id": "1ab979e9-d83f-4acc-b196-40abf3d2d91f",
   "metadata": {},
   "source": [
    "Lets switch gears and look at one of the PFe catalogs."
   ]
  },
  {
   "cell_type": "code",
   "execution_count": null,
   "id": "5b61a5d8-9487-49b0-a90c-832f7ae07f5b",
   "metadata": {},
   "outputs": [],
   "source": [
    "df = pd.read_csv('/efs/jrclark/PFe Data/PFe_Catalogs/N PFe Characteristics/2020_09/PFe_Catalog_20200903T0024.csv')\n",
    "df"
   ]
  },
  {
   "cell_type": "markdown",
   "id": "32fc008b-bfa8-40be-b348-afbffad31d28",
   "metadata": {},
   "source": [
    "These catalogs are kinda long so you may need to scroll to see the columns farther to the right. Each row corresponds to an individual faculae detected in a image (the time is indicated in the filename). The first row called \"PFe label\" contains the label the PFe has in the segmentation image. (Please note the catalogs were not created using the segmentation images from the 3600s data I have saved. They were created using 720s segmentation images because they aligned with the other data products better.)\n",
    "\n",
    "The next two columns called 'X Centroid' and 'Y Centroid' give the pixel coordinate of the center of each PFe. The 'Lat' and 'Lon' columns give the center of the PFe in heliographic coordinates. Mu is the center to limb angle. (The Lat,Lon, and Mu values were gathered from the ancillary files. Since the ancillary files from 2015-2019 are missing, those catalogs don't have these columns yet.)\n",
    "\n",
    "Area gives the PFe's size in pixels. The rest of the columns give the maximum pixel value (Max_???), minimum pixel value (Min_???),The flux through a polar faculae (Flux_???) which is the sum of all the pixel values in a polar faculae, and the average flux (Avg_???) which is flux divided by pixel area calculated from multiple different HMI 720s data. These include the intensity, the line-of-sight magnetic field, and the vector B field data in the radial, theta, and phi direction. (B is magnetic field).\n",
    "\n",
    "If you want to look at a subset of the data (for instance only PFe greater than 10 pixels) you can create a new dataframe like so:"
   ]
  },
  {
   "cell_type": "code",
   "execution_count": null,
   "id": "2597b492-b807-41a5-9cf0-061a80a89335",
   "metadata": {},
   "outputs": [],
   "source": [
    "dfnew = df[df['Area'] >10]\n",
    "dfnew"
   ]
  },
  {
   "cell_type": "markdown",
   "id": "84876318-5bec-4804-80fb-9908fb0fa92f",
   "metadata": {},
   "source": [
    "Notice the row names don't change in the new dataframe.\n",
    "\n",
    "You can also create subsets based on multiple conditions. Lets say you only want PFe that are smaller than 20 pixels and have an average radial magnetic flux of at least 250 Gauss:"
   ]
  },
  {
   "cell_type": "code",
   "execution_count": null,
   "id": "0b68eaab-16d4-4db6-bf08-fcd6621b66d3",
   "metadata": {},
   "outputs": [],
   "source": [
    "dfnew2 = df[(df['Area'] < 10) & (df['Avg_Br'] > 250)]\n",
    "dfnew2"
   ]
  },
  {
   "cell_type": "markdown",
   "id": "d6ec404f-ca17-49c3-a801-2f568d19224d",
   "metadata": {},
   "source": [
    "If you want to learn more about pandas and what else you can do with dataframes check out their documentation [here](https://pandas.pydata.org/docs/getting_started/intro_tutorials/index.html).\n",
    "\n",
    "**Exercise 6**\n",
    "\n",
    "For one final exercise please complete the following tasks:\n",
    "\n",
    "1) For solar cycle minimum (2019) pick a time in March and September and make a plot zoomed into the southern and northern polar region respectively. Plot the coordinates of the 20 PFe with the largest area and the 20 PFe with the largest radial magnetic field (average flux). Make sure you use different markers. Do the same for solar cycle maximum (2014). \n",
    "\n",
    "2) Make a histogram of the radial magnetic field of polar faculae in March 2014 and another for March 2019. You should use the average flux in Br for all PFe in all the southern PFe catalogs from March. Don't worry about double counting faculae. Do the same for northern PFe in September of 2014 and 2019. \n",
    "\n",
    "3) Make a movies of the Northern polar region (zoomed in) for a week in September using the segmentation images saved in my directory (this folder: efs/jrclark/Saved FITS/Northern PFe Masks) and the radial vector B data. (Hint: Don't actually make the movie in python. Instead save a sequence of images which you can download and convert into a movie using some sort of movie maker. You can save a matplotlib plot as a png file using:\n",
    ">plt.savefig('/efs/your_directory/name_of_file.png', bbox_inches = 'tight'))"
   ]
  },
  {
   "cell_type": "code",
   "execution_count": null,
   "id": "3b055352-2655-42f4-8b16-b0b02080d82a",
   "metadata": {},
   "outputs": [],
   "source": [
    "#SOLAR MIN prt 1 pick value from 2020 in March (southern)\n",
    "\n",
    "fobj8= s3c.get_object(Bucket=mybucket,Key= 'sdo/hmi/20200302/Ic_noLimbDark/sdo_hmi_h2_20200302T022400_Ic_noLimbDark_v1.fits')\n",
    "\n",
    "#scaleddata=pow(data,15)*100\n",
    "rawdata8 = fobj8['Body'].read()\n",
    "bdata8 = io.BytesIO(rawdata8) \n",
    "hdul8 = astropy.io.fits.open(bdata8,memmap=False)"
   ]
  },
  {
   "cell_type": "code",
   "execution_count": null,
   "id": "48d4fa5e-d9f1-4397-9609-a96cf802ac22",
   "metadata": {},
   "outputs": [],
   "source": [
    "#make data into sunpy map\n",
    "\n",
    "ICMap8 = sunpy.map.Map(hdul8[1].data, hdul8[1].header)"
   ]
  },
  {
   "cell_type": "code",
   "execution_count": null,
   "id": "353c1deb-bfaa-4177-a2f9-9962ffd883fd",
   "metadata": {},
   "outputs": [],
   "source": [
    "#plot 20 pfe with the largest area\n",
    "pfdataframe= pd.read_csv('/efs/jrclark/PFe Data/PFe_Catalogs/S PFe Characteristics/2020_03/PFe_Catalog_20200302T0224.csv')\n",
    "df_extract=pfdataframe.sort_values(by=\"Area\", ascending=False)\n",
    "#df_extract\n",
    "#pfdataframe.columns\n",
    "\n",
    "\n",
    "pfeareaxycoord=[]\n",
    "data_cond = df_extract[['X_Centroid', 'Y_Centroid', 'Area']]\n",
    "extracted_data = data_cond.head(20)\n",
    "#print(extracted_data)\n",
    "#print(type(extracted_data))\n",
    "\n",
    "x_centroid_list=[]\n",
    "y_centroid_list=[]\n",
    "\n",
    "for index, row in extracted_data.iterrows():\n",
    "    # Convert the row to a list\n",
    "    row_list = row.tolist()\n",
    "    \n",
    "    # Append the values to respective lists\n",
    "    x_centroid_list.append(row_list[0])\n",
    "    y_centroid_list.append(row_list[1])\n",
    "    #print(row_list)\n",
    "    \n",
    "print(x_centroid_list)\n",
    "print(y_centroid_list)\n"
   ]
  },
  {
   "cell_type": "code",
   "execution_count": null,
   "id": "a8f41f4c-7642-454f-a7eb-e165793c6214",
   "metadata": {},
   "outputs": [],
   "source": [
    "#plot 20 pfe with the largest radial magnetic field (average flux)\n",
    "pfdataframe= pd.read_csv('/efs/jrclark/PFe Data/PFe_Catalogs/S PFe Characteristics/2020_03/PFe_Catalog_20200302T0224.csv')\n",
    "df_extract=pfdataframe.sort_values(by=\"Avg_Br\", ascending=False)\n",
    "#df_extract\n",
    "#pfdataframe.columns\n",
    "\n",
    "\n",
    "pfeareaxycoord=[]\n",
    "data_cond = df_extract[['X_Centroid', 'Y_Centroid', 'Avg_Br']]\n",
    "extracted_data = data_cond.head(20)\n",
    "#print(extracted_data)\n",
    "#print(type(extracted_data))\n",
    "\n",
    "x_centroid_listbr=[]\n",
    "y_centroid_listbr=[]\n",
    "\n",
    "for index, row in extracted_data.iterrows():\n",
    "    # Convert the row to a list\n",
    "    row_list = row.tolist()\n",
    "    \n",
    "    # Append the values to respective lists\n",
    "    x_centroid_listbr.append(row_list[0])\n",
    "    y_centroid_listbr.append(row_list[1])\n",
    "    #print(row_list)\n",
    "    \n",
    "print(x_centroid_listbr)\n",
    "print(y_centroid_listbr)"
   ]
  },
  {
   "cell_type": "code",
   "execution_count": null,
   "id": "60b61439-9d55-4f69-81d7-62976d46f893",
   "metadata": {},
   "outputs": [],
   "source": [
    "#PFe coordinates converted to arcseconds\n",
    "#scaledMap8=(ICMap8**15)*100\n",
    "#makes a skycoord object\n",
    "#giving it the pixel coordinates and telling it to convert to world coordinates\n",
    "#World Coordinate frame (wcs)\n",
    "xy8=ICMap8.wcs.pixel_to_world(x_centroid_list,y_centroid_list)\n",
    "xy9=ICMap8.wcs.pixel_to_world(x_centroid_listbr,y_centroid_listbr)\n",
    "\n",
    "#plot the figure\n",
    "fig = plt.figure()\n",
    "ax = fig.add_subplot(projection=ICMap8)\n",
    "ICMap8.plot(axes = ax, interpolation = 'none')\n",
    "ax.plot_coord(xy8, \"x\", color='b', ms=3)\n",
    "ax.plot_coord(xy9, \"x\", color='k', ms=3)"
   ]
  },
  {
   "cell_type": "code",
   "execution_count": null,
   "id": "f9ae30b4-7999-449e-9d20-5b6e257b75d0",
   "metadata": {},
   "outputs": [],
   "source": [
    "\n",
    "#Define the boundaries of the submap North using coordinates\n",
    "top_rightS = SkyCoord(450 * u.arcsec, 840 * u.arcsec, frame=ICMap8.coordinate_frame)\n",
    "bottom_leftS = SkyCoord(-450 * u.arcsec, 970 * u.arcsec, frame=ICMap8.coordinate_frame)\n",
    "\n",
    "#Create the submap North\n",
    "submapS = ICMap8.submap(bottom_leftS, top_right=top_rightS)\n",
    "\n",
    "fig = plt.figure(figsize = (12,6)) #make the figure bigger\n",
    "ax = fig.add_subplot(projection=submapS)\n",
    "ax.plot_coord(xy8, \"x\", color='b', ms=5)\n",
    "ax.plot_coord(xy9, \"x\", color='k', ms=5)\n",
    "submapS.plot(axes = ax, interpolation = 'none', cmap='hot')\n"
   ]
  },
  {
   "cell_type": "code",
   "execution_count": null,
   "id": "1bfbd8ab-ef59-41e8-9f0b-03b028f2c4a2",
   "metadata": {},
   "outputs": [],
   "source": [
    "\n",
    "#Define the boundaries of the submap South using coordinates\n",
    "top_rightS = SkyCoord(450 * u.arcsec, -840 * u.arcsec, frame=ICMap8.coordinate_frame)\n",
    "bottom_leftS = SkyCoord(-450 * u.arcsec, -970 * u.arcsec, frame=ICMap8.coordinate_frame)\n",
    "\n",
    "#Create the submap South\n",
    "submapS = ICMap8.submap(bottom_leftS, top_right=top_rightS)\n",
    "\n",
    "fig = plt.figure(figsize = (12,6)) #make the figure bigger\n",
    "ax = fig.add_subplot(projection=submapS)\n",
    "ax.plot_coord(xy8, \"x\", color='b', ms=5)\n",
    "ax.plot_coord(xy9, \"+\", color='k', ms=7)\n",
    "submapS.plot(axes = ax, interpolation = 'none', cmap='hot')"
   ]
  },
  {
   "cell_type": "code",
   "execution_count": null,
   "id": "8e10a40e-2dc7-4070-ba41-e89089b75c9e",
   "metadata": {},
   "outputs": [],
   "source": [
    "#SOLAR MIN prt 1 pick value from 2020 in September (northern)\n",
    "\n",
    "fobj9= s3c.get_object(Bucket=mybucket,Key= 'sdo/hmi/20200902/Ic_noLimbDark/sdo_hmi_h2_20200902T022400_Ic_noLimbDark_v1.fits')\n",
    "\n",
    "rawdata9 = fobj9['Body'].read()\n",
    "bdata9 = io.BytesIO(rawdata9) \n",
    "hdul9 = astropy.io.fits.open(bdata9,memmap=False)"
   ]
  },
  {
   "cell_type": "code",
   "execution_count": null,
   "id": "95aabd7e-1af7-41f7-991d-b6de0d21e5b5",
   "metadata": {},
   "outputs": [],
   "source": [
    "#make data into sunpy map\n",
    "\n",
    "ICMap9 = sunpy.map.Map(hdul9[1].data, hdul9[1].header)"
   ]
  },
  {
   "cell_type": "code",
   "execution_count": null,
   "id": "ef8cb877-e2e7-4d9a-bb94-2b81041b71e6",
   "metadata": {},
   "outputs": [],
   "source": [
    "#plot 20 pfe with the largest area\n",
    "pfdataframe= pd.read_csv('/efs/jrclark/PFe Data/PFe_Catalogs/N PFe Characteristics/2020_09/PFe_Catalog_20200902T1024.csv')\n",
    "\n",
    "df_extract=pfdataframe.sort_values(by=\"Area\", ascending=False)\n",
    "\n",
    "\n",
    "pfeareaxycoord=[]\n",
    "data_cond = df_extract[['X_Centroid', 'Y_Centroid', 'Area']]\n",
    "extracted_data = data_cond.head(20)\n",
    "#print(extracted_data)\n",
    "#print(type(extracted_data))\n",
    "\n",
    "x_centroid_list=[]\n",
    "y_centroid_list=[]\n",
    "\n",
    "for index, row in extracted_data.iterrows():\n",
    "    # Convert the row to a list\n",
    "    row_list = row.tolist()\n",
    "    \n",
    "    # Append the values to respective lists\n",
    "    x_centroid_list.append(row_list[0])\n",
    "    y_centroid_list.append(row_list[1])\n",
    "    #print(row_list)\n",
    "    \n",
    "print(x_centroid_list)\n",
    "print(y_centroid_list)"
   ]
  },
  {
   "cell_type": "code",
   "execution_count": null,
   "id": "7f654632-fdcb-4633-b346-41ad7e17f3ca",
   "metadata": {},
   "outputs": [],
   "source": [
    "#plot 20 PFe with the largest radial magnetic field (average flux)\n",
    "pfdataframe= pd.read_csv('/efs/jrclark/PFe Data/PFe_Catalogs/N PFe Characteristics/2020_09/PFe_Catalog_20200902T1024.csv')\n",
    "df_extract=pfdataframe.sort_values(by=\"Avg_Br\", ascending=False)\n",
    "#df_extract\n",
    "#pfdataframe.columns\n",
    "\n",
    "pfeareaxycoord=[]\n",
    "data_cond = df_extract[['X_Centroid', 'Y_Centroid', 'Avg_Br']]\n",
    "extracted_data = data_cond.head(20)\n",
    "#print(extracted_data)\n",
    "#print(type(extracted_data))\n",
    "\n",
    "x_centroid_listbr=[]\n",
    "y_centroid_listbr=[]\n",
    "\n",
    "for index, row in extracted_data.iterrows():\n",
    "    # Convert the row to a list\n",
    "    row_list = row.tolist()\n",
    "    \n",
    "    # Append the values to respective lists\n",
    "    x_centroid_listbr.append(row_list[0])\n",
    "    y_centroid_listbr.append(row_list[1])\n",
    "    #print(row_list)\n",
    "    \n",
    "print(x_centroid_listbr)\n",
    "print(y_centroid_listbr)"
   ]
  },
  {
   "cell_type": "code",
   "execution_count": null,
   "id": "2c32744e-c858-405f-9721-c51e1bc976d0",
   "metadata": {},
   "outputs": [],
   "source": [
    "#PFe coordinates converted to arcseconds\n",
    "#scaledMap8=(ICMap8**15)*100\n",
    "#makes a skycoord object\n",
    "#giving it the pixel coordinates and telling it to convert to world coordinates\n",
    "#World Coordinate frame (wcs)\n",
    "xy8=ICMap9.wcs.pixel_to_world(x_centroid_list,y_centroid_list)\n",
    "xy9=ICMap9.wcs.pixel_to_world(x_centroid_listbr,y_centroid_listbr)\n",
    "\n",
    "#plot the figure\n",
    "fig = plt.figure()\n",
    "ax = fig.add_subplot(projection=ICMap9)\n",
    "ICMap9.plot(axes = ax, interpolation = 'none')\n",
    "ax.plot_coord(xy8, \"x\", color='b', ms=3)\n",
    "ax.plot_coord(xy9, \"x\", color='k', ms=3)"
   ]
  },
  {
   "cell_type": "code",
   "execution_count": null,
   "id": "f80fff51-8584-4f18-889a-1cda180071a9",
   "metadata": {},
   "outputs": [],
   "source": [
    "\n",
    "#Define the boundaries of the submap North using coordinates\n",
    "top_rightS = SkyCoord(450 * u.arcsec, 840 * u.arcsec, frame=ICMap9.coordinate_frame)\n",
    "bottom_leftS = SkyCoord(-450 * u.arcsec, 970 * u.arcsec, frame=ICMap9.coordinate_frame)\n",
    "\n",
    "#Create the submap North\n",
    "submapS = ICMap9.submap(bottom_leftS, top_right=top_rightS)\n",
    "\n",
    "fig = plt.figure(figsize = (12,6)) #make the figure bigger\n",
    "ax = fig.add_subplot(projection=submapS)\n",
    "ax.plot_coord(xy8, \"x\", color='b', ms=5)\n",
    "ax.plot_coord(xy9, \"+\", color='k', ms=5)\n",
    "submapS.plot(axes = ax, interpolation = 'none', cmap='hot')\n"
   ]
  },
  {
   "cell_type": "code",
   "execution_count": null,
   "id": "490b00ac-26c8-4223-8992-94f0d5842c74",
   "metadata": {},
   "outputs": [],
   "source": [
    "\n",
    "#Define the boundaries of the submap South using coordinates\n",
    "top_rightS = SkyCoord(450 * u.arcsec, -840 * u.arcsec, frame=ICMap9.coordinate_frame)\n",
    "bottom_leftS = SkyCoord(-450 * u.arcsec, -970 * u.arcsec, frame=ICMap9.coordinate_frame)\n",
    "\n",
    "#Create the submap South\n",
    "submapS = ICMap9.submap(bottom_leftS, top_right=top_rightS)\n",
    "\n",
    "fig = plt.figure(figsize = (12,6)) #make the figure bigger\n",
    "ax = fig.add_subplot(projection=submapS)\n",
    "ax.plot_coord(xy8, \"x\", color='b', ms=5)\n",
    "ax.plot_coord(xy9, \"+\", color='k', ms=7)\n",
    "submapS.plot(axes = ax, interpolation = 'none', cmap='hot')"
   ]
  },
  {
   "cell_type": "code",
   "execution_count": null,
   "id": "feabdfdd-c54e-47a2-ac33-707931d7cbb3",
   "metadata": {},
   "outputs": [],
   "source": [
    "#NOW FOR 2014 MAR\n",
    "#SOLAR MIN prt 1 pick value from 2014 in March (southern)\n",
    "\n",
    "fobjct= s3c.get_object(Bucket=mybucket,Key= 'sdo/hmi/20140302/Ic_noLimbDark/sdo_hmi_h2_20200302T102400_Ic_noLimbDark_v1.fits')\n",
    "\n",
    "#scaleddata=pow(data,15)*100\n",
    "rawdata8 = fobjct['Body'].read()\n",
    "bdata8 = io.BytesIO(rawdata8) \n",
    "hdul8 = astropy.io.fits.open(bdata8,memmap=False)\n"
   ]
  },
  {
   "cell_type": "code",
   "execution_count": null,
   "id": "fd7e75a6-1a6a-472a-924b-138488d6a1ba",
   "metadata": {},
   "outputs": [],
   "source": [
    "#make data into sunpy map\n",
    "ICMap8 = sunpy.map.Map(hdul8[1].data, hdul8[1].header)"
   ]
  },
  {
   "cell_type": "code",
   "execution_count": null,
   "id": "cb719b39-51f1-4e0a-b7c6-1efce6188660",
   "metadata": {},
   "outputs": [],
   "source": [
    "#plot 20 pfe with the largest area\n",
    "pfdataframe= pd.read_csv('/efs/jrclark/PFe Data/PFe_Catalogs/S PFe Characteristics/2020_03/PFe_Catalog_20200302T0224.csv')\n",
    "df_extract=pfdataframe.sort_values(by=\"Area\", ascending=False)\n",
    "#df_extract\n",
    "#pfdataframe.columns\n",
    "\n",
    "\n",
    "pfeareaxycoord=[]\n",
    "data_cond = df_extract[['X_Centroid', 'Y_Centroid', 'Area']]\n",
    "extracted_data = data_cond.head(20)\n",
    "#print(extracted_data)\n",
    "#print(type(extracted_data))\n",
    "\n",
    "x_centroid_list=[]\n",
    "y_centroid_list=[]\n",
    "\n",
    "for index, row in extracted_data.iterrows():\n",
    "    # Convert the row to a list\n",
    "    row_list = row.tolist()\n",
    "    \n",
    "    # Append the values to respective lists\n",
    "    x_centroid_list.append(row_list[0])\n",
    "    y_centroid_list.append(row_list[1])\n",
    "    #print(row_list)\n",
    "    \n",
    "print(x_centroid_list)\n",
    "print(y_centroid_list)"
   ]
  },
  {
   "cell_type": "code",
   "execution_count": null,
   "id": "0b1d5e92-82a1-4b3c-a292-9b11cf0f3195",
   "metadata": {},
   "outputs": [],
   "source": [
    "#plot 20 pfe with the largest radial magnetic field (average flux)\n",
    "pfdataframe= pd.read_csv('/efs/jrclark/PFe Data/PFe_Catalogs/S PFe Characteristics/2020_03/PFe_Catalog_20200302T0224.csv')\n",
    "df_extract=pfdataframe.sort_values(by=\"Avg_Br\", ascending=False)\n",
    "#df_extract\n",
    "#pfdataframe.columns\n",
    "\n",
    "\n",
    "pfeareaxycoord=[]\n",
    "data_cond = df_extract[['X_Centroid', 'Y_Centroid', 'Avg_Br']]\n",
    "extracted_data = data_cond.head(20)\n",
    "#print(extracted_data)\n",
    "#print(type(extracted_data))\n",
    "\n",
    "x_centroid_listbr=[]\n",
    "y_centroid_listbr=[]\n",
    "\n",
    "for index, row in extracted_data.iterrows():\n",
    "    # Convert the row to a list\n",
    "    row_list = row.tolist()\n",
    "    \n",
    "    # Append the values to respective lists\n",
    "    x_centroid_listbr.append(row_list[0])\n",
    "    y_centroid_listbr.append(row_list[1])\n",
    "    #print(row_list)\n",
    "    \n",
    "print(x_centroid_listbr)\n",
    "print(y_centroid_listbr)"
   ]
  },
  {
   "cell_type": "code",
   "execution_count": null,
   "id": "f13365b6-91b4-443a-89e1-9dc80577e032",
   "metadata": {},
   "outputs": [],
   "source": [
    "#PFe coordinates converted to arcseconds\n",
    "xy8=ICMap8.wcs.pixel_to_world(x_centroid_list,y_centroid_list)\n",
    "xy9=ICMap8.wcs.pixel_to_world(x_centroid_listbr,y_centroid_listbr)\n",
    "\n",
    "#plot the figure\n",
    "fig = plt.figure()\n",
    "ax = fig.add_subplot(projection=ICMap8)\n",
    "ICMap8.plot(axes = ax, interpolation = 'none')\n",
    "ax.plot_coord(xy8, \"x\", color='b', ms=3)\n",
    "ax.plot_coord(xy9, \"x\", color='k', ms=3)"
   ]
  },
  {
   "cell_type": "code",
   "execution_count": null,
   "id": "6f687a72-e7ee-4069-94c8-3ec79da2e626",
   "metadata": {},
   "outputs": [],
   "source": [
    "#Define the boundaries of the submap North using coordinates\n",
    "top_rightS = SkyCoord(450 * u.arcsec, 840 * u.arcsec, frame=ICMap8.coordinate_frame)\n",
    "bottom_leftS = SkyCoord(-450 * u.arcsec, 970 * u.arcsec, frame=ICMap8.coordinate_frame)\n",
    "\n",
    "#Create the submap North\n",
    "submapS = ICMap8.submap(bottom_leftS, top_right=top_rightS)\n",
    "\n",
    "fig = plt.figure(figsize = (12,6)) #make the figure bigger\n",
    "ax = fig.add_subplot(projection=submapS)\n",
    "ax.plot_coord(xy8, \"x\", color='b', ms=5)\n",
    "ax.plot_coord(xy9, \"x\", color='k', ms=5)\n",
    "submapS.plot(axes = ax, interpolation = 'none', cmap='hot')"
   ]
  },
  {
   "cell_type": "code",
   "execution_count": null,
   "id": "12012f21-6afe-4aa0-9e11-e994b99bdcec",
   "metadata": {},
   "outputs": [],
   "source": [
    "#Define the boundaries of the submap South using coordinates\n",
    "top_rightS = SkyCoord(450 * u.arcsec, -840 * u.arcsec, frame=ICMap9.coordinate_frame)\n",
    "bottom_leftS = SkyCoord(-450 * u.arcsec, -970 * u.arcsec, frame=ICMap9.coordinate_frame)\n",
    "\n",
    "#Create the submap South\n",
    "submapS = ICMap9.submap(bottom_leftS, top_right=top_rightS)\n",
    "\n",
    "fig = plt.figure(figsize = (12,6)) #make the figure bigger\n",
    "ax = fig.add_subplot(projection=submapS)\n",
    "ax.plot_coord(xy8, \"x\", color='b', ms=5)\n",
    "ax.plot_coord(xy9, \"+\", color='k', ms=7)\n",
    "submapS.plot(axes = ax, interpolation = 'none', cmap='hot')"
   ]
  },
  {
   "cell_type": "code",
   "execution_count": null,
   "id": "29d7bf64-4552-4bc4-84f2-e46052c9287b",
   "metadata": {},
   "outputs": [],
   "source": [
    "#QUESTION 2\n",
    "#histogram of radial B of polar faculae in March 2014 and another for March 2019.\n",
    "#You should use the average flux in Br for all PFe in all the southern PFe catalogs from March.\n",
    "#Don't worry about double counting faculae. Do the same for northern PFe in September of 2014 and 2019.\n",
    "#how many diff values the pfe can be distributed over"
   ]
  },
  {
   "cell_type": "code",
   "execution_count": null,
   "id": "0da5b265-3507-410d-8841-b770d4f087bb",
   "metadata": {},
   "outputs": [],
   "source": [
    "#MARCH  2020 RADIAL B OF PFE\n",
    "\n",
    "path='/efs/jrclark/PFe Data/PFe_Catalogs/S PFe Characteristics/2020_03/'\n",
    "\n",
    "fileName = os.listdir(path)\n",
    "#print(fileName)\n",
    "marradpfe=[]\n",
    "fileName = [file for file in fileName if '.csv' in file]\n",
    "\n",
    "#marradpfe=[]\n",
    "for file in fileName:\n",
    "\n",
    "    ### Read .csv file and append to list\n",
    "    datfr = pd.read_csv(path + file)\n",
    "    dt_slice=datfr[['Avg_Br']]\n",
    "    #print(dt_slice)\n",
    "    for index, row in dt_slice.iterrows():\n",
    "    # Convert the row to a list\n",
    "            row_to_list = row.tolist()\n",
    "    # Append the values to respective lists\n",
    "            marradpfe.append(row_to_list[0])\n",
    "            #print(row_to_list)\n",
    "#print(marradpfe)\n",
    "\n",
    "plt.xlabel(\"March 2020\")\n",
    "plt.ylabel(\"Radial Magnetic Field\")\n",
    "plt.title(\"Radial Magnetic field of Southern PFe March 2020\")\n",
    "plt.grid()\n",
    "plt.hist(marradpfe) #x is mag field bins y is number of pfe with that mag field\n",
    "plt.show()"
   ]
  },
  {
   "cell_type": "code",
   "execution_count": null,
   "id": "9ea71234-6bbe-4e54-bb0c-370948bb1070",
   "metadata": {},
   "outputs": [],
   "source": [
    "\n",
    "path='/efs/jrclark/PFe Data/PFe_Catalogs/S PFe Characteristics/2014_03/'\n",
    "\n",
    "fileName = os.listdir(path)\n",
    "#print(fileName)\n",
    "marradpfe=[]\n",
    "fileName = [file for file in fileName if '.csv' in file]\n",
    "\n",
    "#marradpfe=[]\n",
    "for file in fileName:\n",
    "\n",
    "    ### Read .csv file and append to list\n",
    "    datfr = pd.read_csv(path + file)\n",
    "    dt_slice=datfr[['Avg_Br']]\n",
    "    #print(dt_slice)\n",
    "    for index, row in dt_slice.iterrows():\n",
    "    # Convert the row to a list\n",
    "            row_to_list = row.tolist()\n",
    "    # Append the values to respective lists\n",
    "            marradpfe.append(row_to_list[0])\n",
    "            #print(row_to_list)\n",
    "#print(marradpfe)\n",
    "\n",
    "plt.xlabel(\"March 2014\")\n",
    "plt.ylabel(\"Radial Magnetic Field\")\n",
    "plt.title(\"Radial Magnetic field of Southern PFe March 2014\")\n",
    "plt.grid()\n",
    "plt.hist(marradpfe) #x is mag field bins y is number of pfe with that mag field\n",
    "plt.show()"
   ]
  },
  {
   "cell_type": "code",
   "execution_count": null,
   "id": "433af82e-e5e8-448d-b58f-e1317fe322a5",
   "metadata": {},
   "outputs": [],
   "source": [
    "#NOTES FOR exercise 3 need to put plt.close() after you save figure\n",
    "#open one of the maps, zoom in to polar region\n",
    "#don't need to change zoom window use a for loop to save all of the images\n",
    "#if you see only a couple pfe on the poles change cmap to veridis. There should be a bunch of pfe\n",
    "#set the bad/nan values to black\n",
    "#create new folder in your directory, save images to folder as png files  to save shift click and continue to hold shift then click on item below\n",
    "#can only download ten things at a time\n",
    "\n",
    "#DIRECTIONS\n",
    "#Make a movies of the Northern polar region (zoomed in) for a week in September using the segmentation images saved in my directory \n",
    "#(this folder: efs/jrclark/Saved FITS/Northern PFe Masks) and the radial vector B data. (Hint: Don't actually make the movie in python. \n",
    "#Instead save a sequence of images which you can download and convert into a movie using some sort of movie maker. You can save a \n",
    "#matplotlib plot as a png file using:\n",
    "#plt.savefig('/efs/your_directory/name_of_file.png', bbox_inches = 'tight'))\n"
   ]
  },
  {
   "cell_type": "markdown",
   "id": "b210bf57-1fef-4f60-9421-046059e4db79",
   "metadata": {
    "tags": []
   },
   "source": [
    "import os\n",
    "import numpy as np\n",
    "import matplotlib.pyplot as plt\n",
    "from astropy.io import fits"
   ]
  },
  {
   "cell_type": "markdown",
   "id": "c9a0ae67-0448-419e-8894-0d0db68513e4",
   "metadata": {},
   "source": [
    "# Directory containing segmentation images and radial vector B data\n",
    "segmentation_dir = '/efs/jrclark/Saved FITS/Northern PFe Masks/'\n",
    "output_dir = '/efs/okome7/movie_images/'\n",
    "\n",
    "# Create output directory if it doesn't exist\n",
    "#if not os.path.exists(output_dir):\n",
    " #   os.makedirs(output_dir)\n",
    "\n",
    "# List all FITS files in the segmentation directory\n",
    "segmentation_files = sorted([f for f in os.listdir(segmentation_dir) if f.endswith('.fits')])\n"
   ]
  },
  {
   "cell_type": "markdown",
   "id": "4958806a-90d1-4a48-aa13-e03e53c83b67",
   "metadata": {},
   "source": [
    "def load_fits_data(file_path):\n",
    "    with fits.open(file_path) as hdul:\n",
    "        data = hdul[0].data\n",
    "    return data\n",
    "\n",
    "# Loop through the segmentation files and create images\n",
    "for i, seg_file in enumerate(segmentation_files):\n",
    "    # Load segmentation data\n",
    "    seg_data = load_fits_data(os.path.join(segmentation_dir, seg_file))\n",
    "    \n",
    "    # Load the corresponding radial vector B data (assuming a similar naming convention)\n",
    "    b_file = seg_file.replace('Masks', 'B')  # Adjust the naming pattern as necessary\n",
    "    b_data = load_fits_data(os.path.join(segmentation_dir, b_file))\n",
    "    \n",
    "    # Create the plot\n",
    "    plt.figure(figsize=(10, 10))\n",
    "    plt.imshow(seg_data, cmap='RdBu')\n",
    "    plt.quiver(np.cos(b_data), np.sin(b_data), color='red', scale=50)  # Adjust the scale as needed\n",
    "    plt.title(f'Northern Polar Region - {seg_file}')\n",
    "    \n",
    "    # Save the plot as a PNG file with a variable in the filename\n",
    "    var = f\"{i:03d}\"\n",
    "    output_file = os.path.join(output_dir, f'frame_{var}.png')\n",
    "   # plt.savefig(output_file, bbox_inches='tight')\n",
    "    plt.close()\n",
    "\n",
    "    print(f'Saved {output_file}')\n"
   ]
  },
  {
   "cell_type": "markdown",
   "id": "a8992f46-1a43-4f39-9a55-f804c3aec25f",
   "metadata": {},
   "source": [
    "import boto3\n",
    "import sunpy.map\n",
    "import io\n",
    "import astropy.io.fits\n",
    "import matplotlib.pyplot as plt\n",
    "from astropy.coordinates import SkyCoord\n",
    "import astropy.units as u\n",
    "\n",
    "# Ensure these are defined properly\n",
    "mybucket = 'your-bucket-name'\n",
    "s3c = boto3.client('s3')\n",
    "\n",
    "# Define the range of days\n",
    "days_in_twowks = [f'{i:02}' for i in range(1, 8)]\n",
    "\n",
    "# Loop through each day and hour\n",
    "for day in days_in_twowks:\n",
    "    for hour in range(24):\n",
    "        hh = f'{hour:02}'\n",
    "        file_name = f'/efs/jrclark/Saved FITS/Northern PFe Masks/2022_09/PFe_North_Mask_2022-09-{day}T{hh}:22:33.300.fits'\n",
    "        print(f'Attempting to retrieve: {file_name}')\n",
    "        \n",
    "        try:\n",
    "            # Retrieve the file from S3\n",
    "            fobj10 = s3c.get_object(Bucket=mybucket, Key=file_name)\n",
    "            rawdata10 = fobj10['Body'].read()\n",
    "            bdata10 = io.BytesIO(rawdata10)\n",
    "            hdul10 = astropy.io.fits.open(bdata10, memmap=False)\n",
    "            \n",
    "            # Ensure to close the FITS file\n",
    "            with hdul10:\n",
    "                header10 = hdul10[1].header\n",
    "                ICMap10 = sunpy.map.Map(hdul10[1].data, header10)\n",
    "            \n",
    "            # Define coordinates for the submap\n",
    "            top_rightS = SkyCoord(450 * u.arcsec, 840 * u.arcsec, frame=ICMap10.coordinate_frame)\n",
    "            bottom_leftS = SkyCoord(-450 * u.arcsec, 970 * u.arcsec, frame=ICMap10.coordinate_frame)\n",
    "            \n",
    "            # Create the submap North\n",
    "            submapS = ICMap10.submap(bottom_leftS, top_right=top_rightS)\n",
    "            \n",
    "            # Plot the submap\n",
    "            fig10 = plt.figure(figsize=(12, 6), layout=\"constrained\") # make the figure bigger\n",
    "            ax = fig10.add_subplot(111, projection=submapS)\n",
    "            submapS.plot(axes=ax, interpolation='none', cmap='hot')\n",
    "            \n",
    "            # Save the plot if needed\n",
    "            save_path = f'/efs/okome7/movie_images/frame_{day}_{hh}.png'\n",
    "            plt.savefig(save_path, bbox_inches='tight')\n",
    "            print(f'Saved plot to: {save_path}')\n",
    "            \n",
    "            # Close the plot\n",
    "            plt.close(fig10)\n",
    "        \n",
    "        except s3c.exceptions.NoSuchKey:\n",
    "            print(f'No such key: {file_name}')\n",
    "        except Exception as e:\n",
    "            print(f'An error occurred: {e}')\n"
   ]
  },
  {
   "cell_type": "markdown",
   "id": "d1a17122-e36b-4098-8673-0b2cf5bca618",
   "metadata": {},
   "source": [
    "import boto3\n",
    "import sunpy.map\n",
    "import io\n",
    "import astropy.io.fits\n",
    "import matplotlib.pyplot as plt\n",
    "from astropy.coordinates import SkyCoord\n",
    "import astropy.units as u\n",
    "\n",
    "# Initialize S3 client\n",
    "s3c = boto3.client('s3')\n",
    "\n",
    "# List all S3 buckets\n",
    "buckets = s3c.list_buckets()\n",
    "\n",
    "# Print bucket names\n",
    "print(\"Available S3 Buckets:\")\n",
    "for bucket in buckets['Buckets']:\n",
    "    print(bucket['Name'])\n",
    "\n",
    "# Define the range of days\n",
    "days_in_twowks = [f'{i:02}' for i in range(1, 8)]\n",
    "\n",
    "# Function to attempt retrieval and processing\n",
    "def process_file(bucket_name, file_name):\n",
    "    try:\n",
    "        # Retrieve the file from S3\n",
    "        fobj10 = s3c.get_object(Bucket=bucket_name, Key=file_name)\n",
    "        rawdata10 = fobj10['Body'].read()\n",
    "        bdata10 = io.BytesIO(rawdata10)\n",
    "        hdul10 = astropy.io.fits.open(bdata10, memmap=False)\n",
    "\n",
    "        # Ensure to close the FITS file\n",
    "        with hdul10:\n",
    "            header10 = hdul10[1].header\n",
    "            ICMap10 = sunpy.map.Map(hdul10[1].data, header10)\n",
    "\n",
    "        # Define coordinates for the submap\n",
    "        top_rightS = SkyCoord(450 * u.arcsec, 840 * u.arcsec, frame=ICMap10.coordinate_frame)\n",
    "        bottom_leftS = SkyCoord(-450 * u.arcsec, 970 * u.arcsec, frame=ICMap10.coordinate_frame)\n",
    "\n",
    "        # Create the submap North\n",
    "        submapS = ICMap10.submap(bottom_leftS, top_right=top_rightS)\n",
    "\n",
    "        # Plot the submap\n",
    "        fig10 = plt.figure(figsize=(12, 6), layout=\"constrained\") # make the figure bigger\n",
    "        ax = fig10.add_subplot(111, projection=submapS)\n",
    "        submapS.plot(axes=ax, interpolation='none', cmap='hot')\n",
    "\n",
    "        # Save the plot\n",
    "        save_path = f'/efs/okome7/movie_images/frame_{day}_{hh}.png'\n",
    "        plt.savefig(save_path, bbox_inches='tight')\n",
    "        print(f'Saved plot to: {save_path}')\n",
    "\n",
    "        # Close the plot\n",
    "        plt.close(fig10)\n",
    "\n",
    "    except s3c.exceptions.NoSuchKey:\n",
    "        print(f'No such key: {file_name} in bucket: {bucket_name}')\n",
    "    except Exception as e:\n",
    "        print(f'An error occurred: {e}')\n",
    "\n",
    "# Loop through each day and hour\n",
    "for day in days_in_twowks:\n",
    "    for hour in range(24):\n",
    "        hh = f'{hour:02}'\n",
    "        file_name = f'/efs/jrclark/Saved FITS/Northern PFe Masks/2022_09/PFe_North_Mask_2022-09-{day}T{hh}:22:33.300.fits'\n",
    "        print(f'Attempting to retrieve: {file_name}')\n",
    "        \n",
    "        # Try to find the file in each bucket\n",
    "        for bucket in buckets['Buckets']:\n",
    "            bucket_name = bucket['Name']\n",
    "            process_file(bucket_name, file_name)\n"
   ]
  },
  {
   "cell_type": "code",
   "execution_count": null,
   "id": "292006b0-7089-49a6-8fe8-95c1869b09f8",
   "metadata": {},
   "outputs": [],
   "source": [
    "\n",
    "for year in range(2010,2023):\n",
    "    print(year)\n",
    "    \n",
    "for month in range(1,13):\n",
    "    mon=\"%.2d\"% month\n",
    "    print(mon)\n",
    "#use loop for printing days in 2010 to 2022 considering leap years\n",
    "for days in range(1,32):\n",
    "    day=\"%.2d\"% days\n",
    "    if mon=\n",
    "    print(day)\n",
    "for hours in range(0,24):\n",
    "    hh=\"%.2d\"% hours\n",
    "    print(hh)"
   ]
  },
  {
   "cell_type": "markdown",
   "id": "2ad660ca-a715-45b8-bec7-1fd073d8b545",
   "metadata": {},
   "source": [
    "from datetime import datetime\n",
    "\n",
    "def is_leap_year(year):\n",
    "    \"\"\"Return True if year is a leap year, False otherwise.\"\"\"\n",
    "    return year % 4 == 0 and (year % 100 != 0 or year % 400 == 0)\n",
    "\n",
    "for year in range(2010, 2023):\n",
    "    years=str(year)\n",
    "    for month in range(1, 13):\n",
    "        mon=\"%.2d\"% month\n",
    "        if month in [1, 3, 5, 7, 8, 10, 12]:\n",
    "            days_in_month = 31\n",
    "        elif month in [4, 6, 9, 11]:\n",
    "            days_in_month = 30\n",
    "        elif is_leap_year(year):\n",
    "            days_in_month = 29\n",
    "        else:\n",
    "            days_in_month = 28\n",
    "        \n",
    "        for day in range(1, days_in_month + 1):\n",
    "            date_str = f\"{year}-{month:02d}-{day:02d}\"\n",
    "            #print(date_str)\n",
    "            for hours in range(0,24):\n",
    "                hh=\"%.2d\"% hours\n",
    "            \n",
    "                try:\n",
    "                    fits_path='/efs/jrclark/Saved FITS/Northern PFe Masks/'+ years+ '_'+ mon+ '/PFe_North_Mask_'+ date_str +'T' + hh+':22:33.300.fits'\n",
    "                    NAvgMap = sunpy.map.Map(fits_path)\n",
    "                    NAvgMap\n",
    "                    top_rightS = SkyCoord(450 * u.arcsec, 840 * u.arcsec, frame=NAvgMap.coordinate_frame)\n",
    "                    bottom_leftS = SkyCoord(-450 * u.arcsec, 970 * u.arcsec, frame=NAvgMap.coordinate_frame)\n",
    "\n",
    "                    #Create the submap North\n",
    "                    submapS = NAvgMap.submap(bottom_leftS, top_right=top_rightS)\n",
    "\n",
    "                    fig = plt.figure(figsize = (12,6)) #make the figure bigger\n",
    "                    ax = fig.add_subplot(projection=submapS)\n",
    "                    submapS.plot(axes = ax, interpolation = 'none', cmap='bwr') #RdBu)\n",
    "                    ax.grid(False)\n",
    "            \n",
    "                    ax.set_title(f'Northern Polar Region - {date_str}')\n",
    "                \n",
    "                # Save the figure\n",
    "                    output_file = f'/efs/okome7/movie_images/frame_{year}_{month:02d}_{day:02d}.png'\n",
    "                #plt.savefig(output_file, bbox_inches='tight')\n",
    "                    plt.close()\n",
    "                \n",
    "                    print(f'Saved {output_file}')\n",
    "            \n",
    "                except FileNotFoundError:\n",
    "                    print(f'File not found for {date_str}. Skipping...')\n",
    "                    break  # Skip to the next month if file is not found\n",
    "            \n",
    "                except Exception as e:\n",
    "                    print(f'Error processing {fits_path}: {e}')\n",
    "#plt.savefig('/efs/jrclark/Figures/Paper Stuff/N_Polar_Cap_scaled.png',bbox_inches = 'tight')"
   ]
  },
  {
   "cell_type": "code",
   "execution_count": 12,
   "id": "61841cb5-64a2-4353-997e-b1aeb6acf2b5",
   "metadata": {},
   "outputs": [
    {
     "ename": "NameError",
     "evalue": "name 'years' is not defined",
     "output_type": "error",
     "traceback": [
      "\u001b[0;31m---------------------------------------------------------------------------\u001b[0m",
      "\u001b[0;31mNameError\u001b[0m                                 Traceback (most recent call last)",
      "Cell \u001b[0;32mIn[12], line 5\u001b[0m\n\u001b[1;32m      1\u001b[0m \u001b[38;5;66;03m#Northern polar cap scaled\u001b[39;00m\n\u001b[1;32m      2\u001b[0m \u001b[38;5;66;03m#efs/jrclark/Saved FITS/Northern PFe Masks/2010_05/PFe_North_Mask_2010-05-01T01:22:33.300.fits\u001b[39;00m\n\u001b[0;32m----> 5\u001b[0m NAvgMap \u001b[38;5;241m=\u001b[39m sunpy\u001b[38;5;241m.\u001b[39mmap\u001b[38;5;241m.\u001b[39mMap(\u001b[38;5;124m'\u001b[39m\u001b[38;5;124m/efs/jrclark/Saved FITS/Northern PFe Masks/\u001b[39m\u001b[38;5;124m'\u001b[39m\u001b[38;5;241m+\u001b[39m \u001b[43myears\u001b[49m\u001b[38;5;241m+\u001b[39m \u001b[38;5;124m'\u001b[39m\u001b[38;5;124m_\u001b[39m\u001b[38;5;124m'\u001b[39m\u001b[38;5;241m+\u001b[39m month\u001b[38;5;241m+\u001b[39m \u001b[38;5;124m'\u001b[39m\u001b[38;5;124m/PFe_North_Mask_\u001b[39m\u001b[38;5;124m'\u001b[39m\u001b[38;5;241m+\u001b[39m date_str \u001b[38;5;241m+\u001b[39m\u001b[38;5;124m'\u001b[39m\u001b[38;5;124mT\u001b[39m\u001b[38;5;124m'\u001b[39m \u001b[38;5;241m+\u001b[39m hh\u001b[38;5;241m+\u001b[39m\u001b[38;5;124m'\u001b[39m\u001b[38;5;124m:22:33.300.fits\u001b[39m\u001b[38;5;124m'\u001b[39m)\n\u001b[1;32m      6\u001b[0m NAvgMap\n\u001b[1;32m      7\u001b[0m top_rightS \u001b[38;5;241m=\u001b[39m SkyCoord(\u001b[38;5;241m450\u001b[39m \u001b[38;5;241m*\u001b[39m u\u001b[38;5;241m.\u001b[39marcsec, \u001b[38;5;241m840\u001b[39m \u001b[38;5;241m*\u001b[39m u\u001b[38;5;241m.\u001b[39marcsec, frame\u001b[38;5;241m=\u001b[39mNAvgMap\u001b[38;5;241m.\u001b[39mcoordinate_frame)\n",
      "\u001b[0;31mNameError\u001b[0m: name 'years' is not defined"
     ]
    }
   ],
   "source": [
    "#Northern polar cap scaled\n",
    "#efs/jrclark/Saved FITS/Northern PFe Masks/2010_05/PFe_North_Mask_2010-05-01T01:22:33.300.fits\n",
    "\n",
    "        \n",
    "NAvgMap = sunpy.map.Map('/efs/jrclark/Saved FITS/Northern PFe Masks/'+ years+ '_'+ month+ '/PFe_North_Mask_'+ date_str +'T' + hh+':22:33.300.fits')\n",
    "NAvgMap\n",
    "top_rightS = SkyCoord(450 * u.arcsec, 840 * u.arcsec, frame=NAvgMap.coordinate_frame)\n",
    "bottom_leftS = SkyCoord(-450 * u.arcsec, 970 * u.arcsec, frame=NAvgMap.coordinate_frame)\n",
    "\n",
    "#Create the submap North\n",
    "submapS = NAvgMap.submap(bottom_leftS, top_right=top_rightS)\n",
    "\n",
    "fig = plt.figure(figsize = (12,6)) #make the figure bigger\n",
    "ax = fig.add_subplot(projection=submapS)\n",
    "submapS.plot(axes = ax, interpolation = 'none', cmap='bwr') #RdBu)\n",
    "ax.grid(False)\n",
    "#plt.savefig('/efs/jrclark/Figures/Paper Stuff/N_Polar_Cap_scaled.png',bbox_inches = 'tight')"
   ]
  },
  {
   "cell_type": "code",
   "execution_count": 18,
   "id": "69a9f44b-dd79-4612-bd66-3c98a8088c71",
   "metadata": {
    "tags": []
   },
   "outputs": [
    {
     "name": "stderr",
     "output_type": "stream",
     "text": [
      "WARNING: SunpyMetadataWarning: Could not parse unit string \"I/Iavg\" as a valid FITS unit.\n",
      "See https://docs.sunpy.org/en/stable/how_to/fix_map_metadata.html for how to fix metadata before loading it with sunpy.map.Map.\n",
      "See https://fits.gsfc.nasa.gov/fits_standard.html for the FITS unit standards. [sunpy.map.mapbase]\n",
      "WARNING: SunpyMetadataWarning: Could not parse unit string \"I/Iavg\" as a valid FITS unit.\n",
      "See https://docs.sunpy.org/en/stable/how_to/fix_map_metadata.html for how to fix metadata before loading it with sunpy.map.Map.\n",
      "See https://fits.gsfc.nasa.gov/fits_standard.html for the FITS unit standards. [sunpy.map.mapbase]\n"
     ]
    },
    {
     "ename": "NameError",
     "evalue": "name 'ax1' is not defined",
     "output_type": "error",
     "traceback": [
      "\u001b[0;31m---------------------------------------------------------------------------\u001b[0m",
      "\u001b[0;31mNameError\u001b[0m                                 Traceback (most recent call last)",
      "Cell \u001b[0;32mIn[18], line 11\u001b[0m\n\u001b[1;32m      9\u001b[0m fig \u001b[38;5;241m=\u001b[39m plt\u001b[38;5;241m.\u001b[39mfigure(figsize \u001b[38;5;241m=\u001b[39m (\u001b[38;5;241m12\u001b[39m,\u001b[38;5;241m6\u001b[39m)) \u001b[38;5;66;03m#make the figure bigger\u001b[39;00m\n\u001b[1;32m     10\u001b[0m ax \u001b[38;5;241m=\u001b[39m fig\u001b[38;5;241m.\u001b[39madd_subplot(projection\u001b[38;5;241m=\u001b[39msubmapS)\n\u001b[0;32m---> 11\u001b[0m \u001b[43max1\u001b[49m\u001b[38;5;241m.\u001b[39mplot_coord(line70, color\u001b[38;5;241m=\u001b[39m\u001b[38;5;124m\"\u001b[39m\u001b[38;5;124mw\u001b[39m\u001b[38;5;124m\"\u001b[39m)\n\u001b[1;32m     12\u001b[0m submapS\u001b[38;5;241m.\u001b[39mplot(axes \u001b[38;5;241m=\u001b[39m ax, interpolation \u001b[38;5;241m=\u001b[39m \u001b[38;5;124m'\u001b[39m\u001b[38;5;124mnone\u001b[39m\u001b[38;5;124m'\u001b[39m, cmap\u001b[38;5;241m=\u001b[39m\u001b[38;5;124m'\u001b[39m\u001b[38;5;124mbwr\u001b[39m\u001b[38;5;124m'\u001b[39m) \u001b[38;5;66;03m#RdBu)\u001b[39;00m\n\u001b[1;32m     13\u001b[0m ax\u001b[38;5;241m.\u001b[39mgrid(\u001b[38;5;28;01mFalse\u001b[39;00m)\n",
      "\u001b[0;31mNameError\u001b[0m: name 'ax1' is not defined"
     ]
    },
    {
     "data": {
      "image/png": "[encoded data removed]",
      "text/plain": [
       "<Figure size 1200x600 with 1 Axes>"
      ]
     },
     "metadata": {},
     "output_type": "display_data"
    }
   ],
   "source": [
    "\n",
    "for hour in range(1,24):\n",
    "    hh=\"%.2d\" % hour\n",
    "    NAvgMap = sunpy.map.Map('/efs/jrclark/Saved FITS/Northern PFe Masks/2010_05/PFe_North_Mask_2010-05-01T'+ hh+ ':22:33.300.fits')\n",
    "    NAvgMap\n",
    "    top_rightS = SkyCoord(450 * u.arcsec, 840 * u.arcsec, frame=NAvgMap.coordinate_frame)\n",
    "    bottom_leftS = SkyCoord(-450 * u.arcsec, 970 * u.arcsec, frame=NAvgMap.coordinate_frame)\n",
    "    #Create the submap North\n",
    "    submapS = NAvgMap.submap(bottom_leftS, top_right=top_rightS)\n",
    "    fig = plt.figure(figsize = (12,6)) #make the figure bigger\n",
    "    ax = fig.add_subplot(projection=submapS)\n",
    "    #ax1.plot_coord(line70, color=\"w\")\n",
    "    submapS.plot(axes = ax, interpolation = 'none', cmap='bwr') #RdBu)\n",
    "    ax.grid(False)"
   ]
  },
  {
   "cell_type": "code",
   "execution_count": 31,
   "id": "ef9f8012-f4e8-44d1-9d50-9fc71066d9b8",
   "metadata": {},
   "outputs": [
    {
     "name": "stdout",
     "output_type": "stream",
     "text": [
      "/efs/jrclark/Saved FITS/Northern PFe Masks/2010_05/PFe_North_Mask_2010-05-01T01:22:33.300.fits\n"
     ]
    },
    {
     "name": "stderr",
     "output_type": "stream",
     "text": [
      "WARNING: SunpyMetadataWarning: Could not parse unit string \"I/Iavg\" as a valid FITS unit.\n",
      "See https://docs.sunpy.org/en/stable/how_to/fix_map_metadata.html for how to fix metadata before loading it with sunpy.map.Map.\n",
      "See https://fits.gsfc.nasa.gov/fits_standard.html for the FITS unit standards. [sunpy.map.mapbase]\n",
      "WARNING: SunpyMetadataWarning: Could not parse unit string \"I/Iavg\" as a valid FITS unit.\n",
      "See https://docs.sunpy.org/en/stable/how_to/fix_map_metadata.html for how to fix metadata before loading it with sunpy.map.Map.\n",
      "See https://fits.gsfc.nasa.gov/fits_standard.html for the FITS unit standards. [sunpy.map.mapbase]\n"
     ]
    },
    {
     "name": "stdout",
     "output_type": "stream",
     "text": [
      "/efs/jrclark/Saved FITS/Northern PFe Masks/2010_05/PFe_North_Mask_2010-05-01T02:22:33.300.fits\n"
     ]
    },
    {
     "name": "stderr",
     "output_type": "stream",
     "text": [
      "WARNING: SunpyMetadataWarning: Could not parse unit string \"I/Iavg\" as a valid FITS unit.\n",
      "See https://docs.sunpy.org/en/stable/how_to/fix_map_metadata.html for how to fix metadata before loading it with sunpy.map.Map.\n",
      "See https://fits.gsfc.nasa.gov/fits_standard.html for the FITS unit standards. [sunpy.map.mapbase]\n",
      "WARNING: SunpyMetadataWarning: Could not parse unit string \"I/Iavg\" as a valid FITS unit.\n",
      "See https://docs.sunpy.org/en/stable/how_to/fix_map_metadata.html for how to fix metadata before loading it with sunpy.map.Map.\n",
      "See https://fits.gsfc.nasa.gov/fits_standard.html for the FITS unit standards. [sunpy.map.mapbase]\n"
     ]
    },
    {
     "name": "stdout",
     "output_type": "stream",
     "text": [
      "/efs/jrclark/Saved FITS/Northern PFe Masks/2010_05/PFe_North_Mask_2010-05-01T03:22:33.300.fits\n"
     ]
    },
    {
     "name": "stderr",
     "output_type": "stream",
     "text": [
      "WARNING: SunpyMetadataWarning: Could not parse unit string \"I/Iavg\" as a valid FITS unit.\n",
      "See https://docs.sunpy.org/en/stable/how_to/fix_map_metadata.html for how to fix metadata before loading it with sunpy.map.Map.\n",
      "See https://fits.gsfc.nasa.gov/fits_standard.html for the FITS unit standards. [sunpy.map.mapbase]\n",
      "WARNING: SunpyMetadataWarning: Could not parse unit string \"I/Iavg\" as a valid FITS unit.\n",
      "See https://docs.sunpy.org/en/stable/how_to/fix_map_metadata.html for how to fix metadata before loading it with sunpy.map.Map.\n",
      "See https://fits.gsfc.nasa.gov/fits_standard.html for the FITS unit standards. [sunpy.map.mapbase]\n"
     ]
    },
    {
     "name": "stdout",
     "output_type": "stream",
     "text": [
      "/efs/jrclark/Saved FITS/Northern PFe Masks/2010_05/PFe_North_Mask_2010-05-01T04:22:33.300.fits\n"
     ]
    },
    {
     "name": "stderr",
     "output_type": "stream",
     "text": [
      "WARNING: SunpyMetadataWarning: Could not parse unit string \"I/Iavg\" as a valid FITS unit.\n",
      "See https://docs.sunpy.org/en/stable/how_to/fix_map_metadata.html for how to fix metadata before loading it with sunpy.map.Map.\n",
      "See https://fits.gsfc.nasa.gov/fits_standard.html for the FITS unit standards. [sunpy.map.mapbase]\n",
      "WARNING: SunpyMetadataWarning: Could not parse unit string \"I/Iavg\" as a valid FITS unit.\n",
      "See https://docs.sunpy.org/en/stable/how_to/fix_map_metadata.html for how to fix metadata before loading it with sunpy.map.Map.\n",
      "See https://fits.gsfc.nasa.gov/fits_standard.html for the FITS unit standards. [sunpy.map.mapbase]\n"
     ]
    },
    {
     "name": "stdout",
     "output_type": "stream",
     "text": [
      "/efs/jrclark/Saved FITS/Northern PFe Masks/2010_05/PFe_North_Mask_2010-05-01T05:22:33.300.fits\n"
     ]
    },
    {
     "name": "stderr",
     "output_type": "stream",
     "text": [
      "WARNING: SunpyMetadataWarning: Could not parse unit string \"I/Iavg\" as a valid FITS unit.\n",
      "See https://docs.sunpy.org/en/stable/how_to/fix_map_metadata.html for how to fix metadata before loading it with sunpy.map.Map.\n",
      "See https://fits.gsfc.nasa.gov/fits_standard.html for the FITS unit standards. [sunpy.map.mapbase]\n",
      "WARNING: SunpyMetadataWarning: Could not parse unit string \"I/Iavg\" as a valid FITS unit.\n",
      "See https://docs.sunpy.org/en/stable/how_to/fix_map_metadata.html for how to fix metadata before loading it with sunpy.map.Map.\n",
      "See https://fits.gsfc.nasa.gov/fits_standard.html for the FITS unit standards. [sunpy.map.mapbase]\n"
     ]
    },
    {
     "name": "stdout",
     "output_type": "stream",
     "text": [
      "/efs/jrclark/Saved FITS/Northern PFe Masks/2010_05/PFe_North_Mask_2010-05-01T06:22:33.300.fits\n"
     ]
    },
    {
     "ename": "ValueError",
     "evalue": "Did not find any files at /efs/jrclark/Saved FITS/Northern PFe Masks/2010_05/PFe_North_Mask_2010-05-01T06:22:33.300.fits",
     "output_type": "error",
     "traceback": [
      "\u001b[0;31m---------------------------------------------------------------------------\u001b[0m",
      "\u001b[0;31mValueError\u001b[0m                                Traceback (most recent call last)",
      "Cell \u001b[0;32mIn[31], line 5\u001b[0m\n\u001b[1;32m      3\u001b[0m fits_path \u001b[38;5;241m=\u001b[39m \u001b[38;5;124m'\u001b[39m\u001b[38;5;124m/efs/jrclark/Saved FITS/Northern PFe Masks/2010_05/PFe_North_Mask_2010-05-01T\u001b[39m\u001b[38;5;124m'\u001b[39m \u001b[38;5;241m+\u001b[39m hh \u001b[38;5;241m+\u001b[39m \u001b[38;5;124m'\u001b[39m\u001b[38;5;124m:22:33.300.fits\u001b[39m\u001b[38;5;124m'\u001b[39m\n\u001b[1;32m      4\u001b[0m \u001b[38;5;28mprint\u001b[39m(fits_path)\n\u001b[0;32m----> 5\u001b[0m NAvgMap \u001b[38;5;241m=\u001b[39m \u001b[43msunpy\u001b[49m\u001b[38;5;241;43m.\u001b[39;49m\u001b[43mmap\u001b[49m\u001b[38;5;241;43m.\u001b[39;49m\u001b[43mMap\u001b[49m\u001b[43m(\u001b[49m\u001b[43mfits_path\u001b[49m\u001b[43m)\u001b[49m\n\u001b[1;32m      6\u001b[0m NAvgMap\n\u001b[1;32m      7\u001b[0m top_rightS \u001b[38;5;241m=\u001b[39m SkyCoord(\u001b[38;5;241m450\u001b[39m \u001b[38;5;241m*\u001b[39m u\u001b[38;5;241m.\u001b[39marcsec, \u001b[38;5;241m840\u001b[39m \u001b[38;5;241m*\u001b[39m u\u001b[38;5;241m.\u001b[39marcsec, frame\u001b[38;5;241m=\u001b[39mNAvgMap\u001b[38;5;241m.\u001b[39mcoordinate_frame)\n",
      "File \u001b[0;32m~/users_conda_envs/pythonenv/lib/python3.11/site-packages/astropy/utils/decorators.py:604\u001b[0m, in \u001b[0;36mdeprecated_renamed_argument.<locals>.decorator.<locals>.wrapper\u001b[0;34m(*args, **kwargs)\u001b[0m\n\u001b[1;32m    601\u001b[0m             msg \u001b[38;5;241m+\u001b[39m\u001b[38;5;241m=\u001b[39m \u001b[38;5;124mf\u001b[39m\u001b[38;5;124m\"\u001b[39m\u001b[38;5;130;01m\\n\u001b[39;00m\u001b[38;5;124m        Use \u001b[39m\u001b[38;5;132;01m{\u001b[39;00malternative\u001b[38;5;132;01m}\u001b[39;00m\u001b[38;5;124m instead.\u001b[39m\u001b[38;5;124m\"\u001b[39m\n\u001b[1;32m    602\u001b[0m         warnings\u001b[38;5;241m.\u001b[39mwarn(msg, warning_type, stacklevel\u001b[38;5;241m=\u001b[39m\u001b[38;5;241m2\u001b[39m)\n\u001b[0;32m--> 604\u001b[0m \u001b[38;5;28;01mreturn\u001b[39;00m \u001b[43mfunction\u001b[49m\u001b[43m(\u001b[49m\u001b[38;5;241;43m*\u001b[39;49m\u001b[43margs\u001b[49m\u001b[43m,\u001b[49m\u001b[43m \u001b[49m\u001b[38;5;241;43m*\u001b[39;49m\u001b[38;5;241;43m*\u001b[39;49m\u001b[43mkwargs\u001b[49m\u001b[43m)\u001b[49m\n",
      "File \u001b[0;32m~/users_conda_envs/pythonenv/lib/python3.11/site-packages/sunpy/map/map_factory.py:266\u001b[0m, in \u001b[0;36mMapFactory.__call__\u001b[0;34m(self, composite, sequence, silence_errors, allow_errors, *args, **kwargs)\u001b[0m\n\u001b[1;32m    234\u001b[0m \u001b[38;5;129m@deprecated_renamed_argument\u001b[39m(\u001b[38;5;124m\"\u001b[39m\u001b[38;5;124msilence_errors\u001b[39m\u001b[38;5;124m\"\u001b[39m, \u001b[38;5;124m\"\u001b[39m\u001b[38;5;124mallow_errors\u001b[39m\u001b[38;5;124m\"\u001b[39m, \u001b[38;5;124m\"\u001b[39m\u001b[38;5;124m5.1\u001b[39m\u001b[38;5;124m\"\u001b[39m, warning_type\u001b[38;5;241m=\u001b[39mSunpyDeprecationWarning)\n\u001b[1;32m    235\u001b[0m \u001b[38;5;28;01mdef\u001b[39;00m \u001b[38;5;21m__call__\u001b[39m(\u001b[38;5;28mself\u001b[39m, \u001b[38;5;241m*\u001b[39margs, composite\u001b[38;5;241m=\u001b[39m\u001b[38;5;28;01mFalse\u001b[39;00m, sequence\u001b[38;5;241m=\u001b[39m\u001b[38;5;28;01mFalse\u001b[39;00m, silence_errors\u001b[38;5;241m=\u001b[39m\u001b[38;5;28;01mFalse\u001b[39;00m, allow_errors\u001b[38;5;241m=\u001b[39m\u001b[38;5;28;01mFalse\u001b[39;00m, \u001b[38;5;241m*\u001b[39m\u001b[38;5;241m*\u001b[39mkwargs):\n\u001b[1;32m    236\u001b[0m \u001b[38;5;250m    \u001b[39m\u001b[38;5;124;03m\"\"\" Method for running the factory. Takes arbitrary arguments and\u001b[39;00m\n\u001b[1;32m    237\u001b[0m \u001b[38;5;124;03m    keyword arguments and passes them to a sequence of pre-registered types\u001b[39;00m\n\u001b[1;32m    238\u001b[0m \u001b[38;5;124;03m    to determine which is the correct Map-type to build.\u001b[39;00m\n\u001b[0;32m   (...)\u001b[0m\n\u001b[1;32m    264\u001b[0m \u001b[38;5;124;03m    as `memmap` for FITS files.\u001b[39;00m\n\u001b[1;32m    265\u001b[0m \u001b[38;5;124;03m    \"\"\"\u001b[39;00m\n\u001b[0;32m--> 266\u001b[0m     data_header_pairs \u001b[38;5;241m=\u001b[39m \u001b[38;5;28;43mself\u001b[39;49m\u001b[38;5;241;43m.\u001b[39;49m\u001b[43m_parse_args\u001b[49m\u001b[43m(\u001b[49m\u001b[38;5;241;43m*\u001b[39;49m\u001b[43margs\u001b[49m\u001b[43m,\u001b[49m\u001b[43m \u001b[49m\u001b[43msilence_errors\u001b[49m\u001b[38;5;241;43m=\u001b[39;49m\u001b[43msilence_errors\u001b[49m\u001b[43m,\u001b[49m\u001b[43m \u001b[49m\u001b[43mallow_errors\u001b[49m\u001b[38;5;241;43m=\u001b[39;49m\u001b[43mallow_errors\u001b[49m\u001b[43m,\u001b[49m\u001b[43m \u001b[49m\u001b[38;5;241;43m*\u001b[39;49m\u001b[38;5;241;43m*\u001b[39;49m\u001b[43mkwargs\u001b[49m\u001b[43m)\u001b[49m\n\u001b[1;32m    267\u001b[0m     new_maps \u001b[38;5;241m=\u001b[39m \u001b[38;5;28mlist\u001b[39m()\n\u001b[1;32m    269\u001b[0m     \u001b[38;5;66;03m# Loop over each registered type and check to see if WidgetType\u001b[39;00m\n\u001b[1;32m    270\u001b[0m     \u001b[38;5;66;03m# matches the arguments.  If it does, use that type.\u001b[39;00m\n",
      "File \u001b[0;32m~/users_conda_envs/pythonenv/lib/python3.11/site-packages/sunpy/map/map_factory.py:186\u001b[0m, in \u001b[0;36mMapFactory._parse_args\u001b[0;34m(self, silence_errors, allow_errors, *args, **kwargs)\u001b[0m\n\u001b[1;32m    184\u001b[0m \u001b[38;5;28;01mfor\u001b[39;00m arg \u001b[38;5;129;01min\u001b[39;00m args:\n\u001b[1;32m    185\u001b[0m     \u001b[38;5;28;01mtry\u001b[39;00m:\n\u001b[0;32m--> 186\u001b[0m         data_header_pairs \u001b[38;5;241m+\u001b[39m\u001b[38;5;241m=\u001b[39m \u001b[38;5;28;43mself\u001b[39;49m\u001b[38;5;241;43m.\u001b[39;49m\u001b[43m_parse_arg\u001b[49m\u001b[43m(\u001b[49m\u001b[43marg\u001b[49m\u001b[43m,\u001b[49m\u001b[43m \u001b[49m\u001b[43msilence_errors\u001b[49m\u001b[38;5;241;43m=\u001b[39;49m\u001b[43msilence_errors\u001b[49m\u001b[43m,\u001b[49m\u001b[43m \u001b[49m\u001b[43mallow_errors\u001b[49m\u001b[38;5;241;43m=\u001b[39;49m\u001b[43mallow_errors\u001b[49m\u001b[43m,\u001b[49m\u001b[43m \u001b[49m\u001b[38;5;241;43m*\u001b[39;49m\u001b[38;5;241;43m*\u001b[39;49m\u001b[43mkwargs\u001b[49m\u001b[43m)\u001b[49m\n\u001b[1;32m    187\u001b[0m     \u001b[38;5;28;01mexcept\u001b[39;00m NoMapsInFileError \u001b[38;5;28;01mas\u001b[39;00m e:\n\u001b[1;32m    188\u001b[0m         \u001b[38;5;28;01mif\u001b[39;00m \u001b[38;5;129;01mnot\u001b[39;00m (silence_errors \u001b[38;5;129;01mor\u001b[39;00m allow_errors):\n",
      "File \u001b[0;32m~/users_conda_envs/pythonenv/lib/python3.11/site-packages/sunpy/util/functools.py:18\u001b[0m, in \u001b[0;36mseconddispatch.<locals>.wrapper\u001b[0;34m(*args, **kwargs)\u001b[0m\n\u001b[1;32m     17\u001b[0m \u001b[38;5;28;01mdef\u001b[39;00m \u001b[38;5;21mwrapper\u001b[39m(\u001b[38;5;241m*\u001b[39margs, \u001b[38;5;241m*\u001b[39m\u001b[38;5;241m*\u001b[39mkwargs):\n\u001b[0;32m---> 18\u001b[0m     \u001b[38;5;28;01mreturn\u001b[39;00m \u001b[43mdispatcher\u001b[49m\u001b[38;5;241;43m.\u001b[39;49m\u001b[43mdispatch\u001b[49m\u001b[43m(\u001b[49m\u001b[43margs\u001b[49m\u001b[43m[\u001b[49m\u001b[38;5;241;43m1\u001b[39;49m\u001b[43m]\u001b[49m\u001b[38;5;241;43m.\u001b[39;49m\u001b[38;5;18;43m__class__\u001b[39;49m\u001b[43m)\u001b[49m\u001b[43m(\u001b[49m\u001b[38;5;241;43m*\u001b[39;49m\u001b[43margs\u001b[49m\u001b[43m,\u001b[49m\u001b[43m \u001b[49m\u001b[38;5;241;43m*\u001b[39;49m\u001b[38;5;241;43m*\u001b[39;49m\u001b[43mkwargs\u001b[49m\u001b[43m)\u001b[49m\n",
      "File \u001b[0;32m~/users_conda_envs/pythonenv/lib/python3.11/site-packages/sunpy/map/map_factory.py:232\u001b[0m, in \u001b[0;36mMapFactory._parse_path\u001b[0;34m(self, arg, **kwargs)\u001b[0m\n\u001b[1;32m    230\u001b[0m \u001b[38;5;129m@_parse_arg\u001b[39m\u001b[38;5;241m.\u001b[39mregister(pathlib\u001b[38;5;241m.\u001b[39mPath)\n\u001b[1;32m    231\u001b[0m \u001b[38;5;28;01mdef\u001b[39;00m \u001b[38;5;21m_parse_path\u001b[39m(\u001b[38;5;28mself\u001b[39m, arg, \u001b[38;5;241m*\u001b[39m\u001b[38;5;241m*\u001b[39mkwargs):\n\u001b[0;32m--> 232\u001b[0m     \u001b[38;5;28;01mreturn\u001b[39;00m \u001b[43mparse_path\u001b[49m\u001b[43m(\u001b[49m\u001b[43marg\u001b[49m\u001b[43m,\u001b[49m\u001b[43m \u001b[49m\u001b[38;5;28;43mself\u001b[39;49m\u001b[38;5;241;43m.\u001b[39;49m\u001b[43m_read_file\u001b[49m\u001b[43m,\u001b[49m\u001b[43m \u001b[49m\u001b[38;5;241;43m*\u001b[39;49m\u001b[38;5;241;43m*\u001b[39;49m\u001b[43mkwargs\u001b[49m\u001b[43m)\u001b[49m\n",
      "File \u001b[0;32m~/users_conda_envs/pythonenv/lib/python3.11/site-packages/sunpy/util/io.py:44\u001b[0m, in \u001b[0;36mparse_path\u001b[0;34m(path, f, **kwargs)\u001b[0m\n\u001b[1;32m     42\u001b[0m     \u001b[38;5;28;01mreturn\u001b[39;00m read_files\n\u001b[1;32m     43\u001b[0m \u001b[38;5;28;01melse\u001b[39;00m:\n\u001b[0;32m---> 44\u001b[0m     \u001b[38;5;28;01mraise\u001b[39;00m \u001b[38;5;167;01mValueError\u001b[39;00m(\u001b[38;5;124mf\u001b[39m\u001b[38;5;124m'\u001b[39m\u001b[38;5;124mDid not find any files at \u001b[39m\u001b[38;5;132;01m{\u001b[39;00mpath\u001b[38;5;132;01m}\u001b[39;00m\u001b[38;5;124m'\u001b[39m)\n",
      "\u001b[0;31mValueError\u001b[0m: Did not find any files at /efs/jrclark/Saved FITS/Northern PFe Masks/2010_05/PFe_North_Mask_2010-05-01T06:22:33.300.fits"
     ]
    }
   ],
   "source": [
    "for hour in range(1, 24):\n",
    "    hh = \"%.2d\" % hour\n",
    "    fits_path = '/efs/jrclark/Saved FITS/Northern PFe Masks/2010_05/PFe_North_Mask_2010-05-01T' + hh + ':22:33.300.fits'\n",
    "    print(fits_path)\n",
    "    NAvgMap = sunpy.map.Map(fits_path)\n",
    "    NAvgMap\n",
    "    top_rightS = SkyCoord(450 * u.arcsec, 840 * u.arcsec, frame=NAvgMap.coordinate_frame)\n",
    "    bottom_leftS = SkyCoord(-450 * u.arcsec, 970 * u.arcsec, frame=NAvgMap.coordinate_frame)\n",
    "\n",
    "    # Create the submap North\n",
    "    submapS = NAvgMap.submap(bottom_leftS, top_right=top_rightS)\n",
    "\n",
    "    fig = plt.figure(figsize=(12, 6))  # make the figure bigger\n",
    "    ax = fig.add_subplot(projection=submapS)\n",
    "    submapS.plot(axes=ax, interpolation='none', cmap='bwr')\n",
    "    ax.grid(False)\n",
    "\n",
    "    ax.set_title(f'Northern Polar Region - 2010-05-01T{hh}:22:33.300')\n",
    "        \n",
    "    # Save the figure\n",
    "    output_file = f'/efs/okome7/movie_images/frame_2010_05_01T{hh}_hour.png'\n",
    "    # plt.savefig(output_file, bbox_inches='tight')\n",
    "    plt.close()\n",
    "        \n",
    "    # print(f'Saved {output_file}')\n",
    "    \n",
    "    #except FileNotFoundError:\n",
    "      #  print(f'File not found for 2010-05-01T{hh}:22:33.300.fits. Skipping...')\n",
    "      #  continue  # Proceed to the next hour if file is not found\n",
    "    \n",
    "   # except Exception as e:\n",
    "     #   print(f'Error processing {fits_path}: {e}')\n"
   ]
  },
  {
   "cell_type": "code",
   "execution_count": null,
   "id": "074ddf30-19fa-4ac7-af63-351d4bcf4fc1",
   "metadata": {},
   "outputs": [],
   "source": [
    "NScaled = (NAvgMap**15)*100\n",
    "\n",
    "top_rightN = SkyCoord(350 * u.arcsec, 960 * u.arcsec, frame=NAvgMap.coordinate_frame)\n",
    "bottom_leftN = SkyCoord(-350 * u.arcsec, 840 * u.arcsec, frame=NAvgMap.coordinate_frame)\n",
    "NSsubmap = NScaled.submap(bottom_leftN, top_right=top_rightN)\n",
    "\n",
    "fig = plt.figure(figsize = (12,6))\n",
    "ax = fig.add_subplot(projection=NSsubmap)\n",
    "NSsubmap.plot(axes = ax, interpolation = 'none',cmap = 'RdBu')\n",
    "\n",
    "#No axis no title no nothing\n",
    "#ax.set_axis_off()\n",
    "ax.grid(False)\n",
    "plt.title('')"
   ]
  },
  {
   "cell_type": "code",
   "execution_count": null,
   "id": "3fca053a-1421-451c-abca-653adada8b0d",
   "metadata": {},
   "outputs": [],
   "source": []
  },
  {
   "cell_type": "code",
   "execution_count": null,
   "id": "5a128b97-6109-47ea-b722-20d264df8621",
   "metadata": {},
   "outputs": [],
   "source": []
  },
  {
   "cell_type": "code",
   "execution_count": null,
   "id": "5c9d86e1-43ff-47d0-a04f-9c01b8f61e0b",
   "metadata": {},
   "outputs": [],
   "source": []
  },
  {
   "cell_type": "code",
   "execution_count": null,
   "id": "0dca0e9f-429f-431b-8a0f-dcfe5e096843",
   "metadata": {},
   "outputs": [],
   "source": []
  },
  {
   "cell_type": "code",
   "execution_count": null,
   "id": "5e932fc0-cfce-49cc-9847-ed77cedf68f1",
   "metadata": {},
   "outputs": [],
   "source": []
  },
  {
   "cell_type": "code",
   "execution_count": null,
   "id": "6bdc6ab5-ce5d-4405-9c60-c14d7acafddf",
   "metadata": {},
   "outputs": [],
   "source": []
  },
  {
   "cell_type": "code",
   "execution_count": null,
   "id": "7b7c8064-1091-4e5e-b10a-41d37abec027",
   "metadata": {},
   "outputs": [],
   "source": []
  },
  {
   "cell_type": "code",
   "execution_count": null,
   "id": "a2a66951-b927-4570-80be-13f278fb9366",
   "metadata": {},
   "outputs": [],
   "source": [
    "#Make movie frames\n",
    "YM = '2014_03'\n",
    "\n",
    "folder = '/efs/jrclark/PFe Sonified/Catalogs/' + YM + '/'\n",
    "filenames = []\n",
    "for x in os.listdir(folder):\n",
    "    if x[0]!= '.':\n",
    "        filenames.append(x[12:-6])\n",
    "filenames.sort()"
   ]
  },
  {
   "cell_type": "code",
   "execution_count": null,
   "id": "546d1d29-a3fe-47e4-ae44-e2506ad3cb9e",
   "metadata": {},
   "outputs": [],
   "source": [
    "file_Names='/efs/jrclark/Saved FITS/Northern PFe Masks/2022_09/PFe_North_Mask_2022-09-01T01:22:33.300.fits'\n",
    "fobj10 = s3c.get_object(Bucket=mybucket,Key= file_Names)\n",
    "rawdata10 = fobj10['Body'].read()\n",
    "bdata10 = io.BytesIO(rawdata10)\n",
    "hdul10 = astropy.io.fits.open(bdata10,memmap=False)\n",
    "header10=hdul10[1].header\n",
    "header10"
   ]
  },
  {
   "cell_type": "code",
   "execution_count": null,
   "id": "3fcee15e-85c4-4b68-a423-45e5f3ad9951",
   "metadata": {},
   "outputs": [],
   "source": [
    "days_in_twowks = [f'{i:02}' for i in range(1, 8)]\n",
    "#efs/jrclark/Saved FITS/Northern PFe Masks\n",
    "#efs/jrclark/Saved FITS/Northern PFe Masks/2010_06\n",
    "#efs/jrclark/Saved FITS/Northern PFe Masks/2010_06/PFe_North_Mask_2010-06-01T01:22:33.300.fits\n",
    "for days in days_in_twowks:\n",
    "    for hour in range(24):\n",
    "        hh=\"%.2d\" % hour\n",
    "        file_Names='efs/jrclark/Saved FITS/Northern PFe Masks/2010_06/PFe_North_Mask_2010-06-' + days + 'T' + hh+ ':22:33.300.fits'\n",
    "\n",
    "        print(file_Names)\n",
    "        \n",
    "        #fobj10 = s3c.get_object(Bucket=mybucket,Key= file_Names)\n",
    "        #rawdata10 = fobj10['Body'].read()\n",
    "        #bdata10 = io.BytesIO(rawdata10)\n",
    "        #hdul10 = astropy.io.fits.open(bdata10,memmap=False)\n",
    "        #header10=hdul10[1].header\n",
    "        #header10\n",
    "        #with hdul10:\n",
    "           # header10 = hdul10[1].header\n",
    "            #ICMap10 = sunpy.map.Map(hdul10[1].data, header10)\n",
    "        \n",
    "        #top_rightS = SkyCoord(450 * u.arcsec, 840 * u.arcsec, frame=ICMap10.coordinate_frame)\n",
    "        #bottom_leftS = SkyCoord(-450 * u.arcsec, 970 * u.arcsec, frame=ICMap10.coordinate_frame)\n",
    "        \n",
    "        #Create the submap North\n",
    "        #submapS = ICMap10.submap(bottom_leftS, top_right=top_rightS)\n",
    "        #fig10 = plt.figure(figsize = (12,6), layout=\"constrained\") #make the figure bigger\n",
    "        #ax = fig.add_subplot(projection=submapS)\n",
    "        #submapS.plot(axes = ax, interpolation = 'none', cmap='hot')\n",
    "        \n",
    "        \n",
    "        #plt.savefig('/efs/okome7/movie_images/frame_'+ var+ '.png', bbox_inches = 'tight')\n",
    "        #plt.close(fig10)\n",
    "        \n",
    "#header10\n",
    "#efs/jrclark/Saved FITS/Northern PFe Masks/2022_09/PFe_North_Mask_2022-09-15T02:22:33.300.fits\n",
    "\n",
    "#ICMap10 = sunpy.map.Map(hdul10[1].data, hdul10[1].header)\n",
    "\n",
    "#top_rightS = SkyCoord(450 * u.arcsec, 840 * u.arcsec, frame=ICMap10.coordinate_frame)\n",
    "#bottom_leftS = SkyCoord(-450 * u.arcsec, 970 * u.arcsec, frame=ICMap10.coordinate_frame)\n",
    "\n",
    "#Create the submap North\n",
    "#submapS = ICMap10.submap(bottom_leftS, top_right=top_rightS)\n",
    "\n",
    "#fig10 = plt.figure(figsize = (12,6), layout=\"constrained\") #make the figure bigger\n",
    "#ax = fig.add_subplot(projection=submapS)\n",
    "#submapS.plot(axes = ax, interpolation = 'none', cmap='hot')\n",
    "\n",
    "#fig10 = plt.figure(figsize = (8,6),layout=\"constrained\")\n",
    "\n",
    "#plt.plot( label='idk')\n",
    "#plt.xlabel(\"Time since (hours)\")\n",
    "#plt.ylabel(\"idk\")\n",
    "#plt.title(\"idks\")\n",
    "#plt.grid()\n",
    "    \n",
    "#plt.legend(title='Ridky')\n",
    "#plt.show()"
   ]
  },
  {
   "cell_type": "code",
   "execution_count": null,
   "id": "51c62dfd-0d74-481f-8e6d-60e7eea8f789",
   "metadata": {},
   "outputs": [],
   "source": [
    "NAvgMap=sunpy.map.Map('/efs/jrclark/Saved FITS/Northern PFe Masks/2022_09/PFe_North_Mask_2022-09-01T00:22:33.300.fits')\n",
    "NAvgMap\n",
    "\n",
    "#this should be inside for loop\n",
    "#1 get list of filenames, make a for loop to iterate through filenames, create a sunpy map, set vmin and vmax to some value\n"
   ]
  },
  {
   "cell_type": "code",
   "execution_count": null,
   "id": "8f2c41c2-403a-4552-a04c-96a69feca0af",
   "metadata": {},
   "outputs": [],
   "source": [
    "header_ex6=hdul8[1].header\n",
    "header_ex6"
   ]
  },
  {
   "cell_type": "code",
   "execution_count": null,
   "id": "a1001dd4-a4a8-4c41-a734-95ad8d55efa1",
   "metadata": {},
   "outputs": [],
   "source": [
    "#efs/okome7/movie_images\n",
    "#var can be something like 0 to 100 or dates so that it can save the files separately\n",
    "plt.savefig('/efs/okome7/movie_images/frame_'+ var+ '.png', bbox_inches = 'tight'))"
   ]
  },
  {
   "cell_type": "code",
   "execution_count": null,
   "id": "6d5bb582-f520-4fa5-8c8e-2fc148802992",
   "metadata": {},
   "outputs": [],
   "source": [
    "NAvgMap=sunpy.map.Map('/efs/jrclark/Saved FITS/Northern PFe Masks/2022_09/PFe_North_Mask_2022-09-01T01:22:33.300.fits')\n",
    "NAvgMap\n"
   ]
  },
  {
   "cell_type": "code",
   "execution_count": null,
   "id": "3b4b3101-b3c7-4166-8103-b7464ae9a1ff",
   "metadata": {},
   "outputs": [],
   "source": [
    "fobj8= s3c.get_object(Bucket=mybucket,Key= '/efs/jrclark/Saved FITS/Northern PFe Masks/2022_09/PFe_North_Mask_2022-0901T01:22:33.300.fits')\n",
    "\n",
    "#scaleddata=pow(data,15)*100\n",
    "rawdata8 = fobj8['Body'].read()\n",
    "bdata8 = io.BytesIO(rawdata8) \n",
    "hdul8 = astropy.io.fits.open(bdata8,memmap=False)\n",
    "\n",
    "ICMap8 = sunpy.map.Map(hdul8[1].data, hdul8[1].header)\n",
    "\n",
    "\n",
    "#plot the figure\n",
    "fig = plt.figure()\n",
    "ax = fig.add_subplot(projection=ICMap8)\n",
    "ICMap8.plot(axes = ax, interpolation = 'none')\n",
    "\n",
    "top_rightS = SkyCoord(450 * u.arcsec, 840 * u.arcsec, frame=ICMap8.coordinate_frame)\n",
    "bottom_leftS = SkyCoord(-450 * u.arcsec, 970 * u.arcsec, frame=ICMap8.coordinate_frame)\n",
    "\n",
    "#Create the submap North\n",
    "submapS = ICMap8.submap(bottom_leftS, top_right=top_rightS)\n",
    "\n",
    "fig = plt.figure(figsize = (12,6)) #make the figure bigger\n",
    "ax = fig.add_subplot(projection=submapS)\n",
    "submapS.plot(axes = ax, interpolation = 'none', cmap='hot')"
   ]
  },
  {
   "cell_type": "code",
   "execution_count": null,
   "id": "41cfdfc0-fb01-41c8-b142-b74f683873b5",
   "metadata": {},
   "outputs": [],
   "source": [
    "#part 3\n",
    "#efs/jrclark/Saved FITS/Northern PFe Masks/2010_09/PFe_North_Mask_2010-09-01T00:22:33.300.fits\n",
    "#does not need to be converted to bytes/rawdata\n",
    "NAvgMap = sunpy.map.Map('/efs/jrclark/Saved FITS/Northern PFe Masks/2010_09/PFe_North_Mask_2010-09-01T00:22:33.30.fits')\n",
    "NAvgMap\n",
    "#user a for loop to iterate through each of the fits files #radial vector data 4\n",
    "#\n"
   ]
  }
 ],
 "metadata": {
  "kernelspec": {
   "display_name": "Python [conda env:pythonenv]",
   "language": "python",
   "name": "conda-env-pythonenv-py"
  },
  "language_info": {
   "codemirror_mode": {
    "name": "ipython",
    "version": 3
   },
   "file_extension": ".py",
   "mimetype": "text/x-python",
   "name": "python",
   "nbconvert_exporter": "python",
   "pygments_lexer": "ipython3",
   "version": "3.11.9"
  }
 },
 "nbformat": 4,
 "nbformat_minor": 5
}
